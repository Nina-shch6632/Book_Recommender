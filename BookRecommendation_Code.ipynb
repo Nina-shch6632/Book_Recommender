{
 "cells": [
  {
   "cell_type": "code",
   "execution_count": 2,
   "id": "9b1f7cb0",
   "metadata": {},
   "outputs": [
    {
     "data": {
      "application/vnd.jupyter.widget-view+json": {
       "model_id": "",
       "version_major": 2,
       "version_minor": 0
      },
      "text/plain": [
       "FloatProgress(value=0.0, bar_style='info', description='Progress:', layout=Layout(height='25px', width='50%'),…"
      ]
     },
     "metadata": {},
     "output_type": "display_data"
    }
   ],
   "source": [
    "#for DataFrame we use a SparkSession instead of a SparkContext\n",
    "from pyspark.sql import SparkSession\n",
    "# SparkSession uses the \"builder\" syntax\n",
    "spark = SparkSession.builder.master('local[*]').appName('Spark DataFrame').getOrCreate()"
   ]
  },
  {
   "cell_type": "code",
   "execution_count": 3,
   "id": "5ccfdcc5",
   "metadata": {},
   "outputs": [
    {
     "name": "stdout",
     "output_type": "stream",
     "text": [
      "Starting Spark application\n"
     ]
    },
    {
     "data": {
      "text/html": [
       "<table>\n",
       "<tr><th>ID</th><th>YARN Application ID</th><th>Kind</th><th>State</th><th>Spark UI</th><th>Driver log</th><th>User</th><th>Current session?</th></tr><tr><td>161</td><td>application_1713565790653_0161</td><td>pyspark</td><td>idle</td><td><a target=\"_blank\" href=\"http://ip-10-0-11-112.us-west-2.compute.internal:20888/proxy/application_1713565790653_0161/\">Link</a></td><td><a target=\"_blank\" href=\"http://ip-10-0-4-22.us-west-2.compute.internal:8042/node/containerlogs/container_1713565790653_0161_01_000001/livy\">Link</a></td><td>None</td><td>✔</td></tr></table>"
      ],
      "text/plain": [
       "<IPython.core.display.HTML object>"
      ]
     },
     "metadata": {},
     "output_type": "display_data"
    },
    {
     "data": {
      "application/vnd.jupyter.widget-view+json": {
       "model_id": "",
       "version_major": 2,
       "version_minor": 0
      },
      "text/plain": [
       "FloatProgress(value=0.0, bar_style='info', description='Progress:', layout=Layout(height='25px', width='50%'),…"
      ]
     },
     "metadata": {},
     "output_type": "display_data"
    },
    {
     "name": "stdout",
     "output_type": "stream",
     "text": [
      "SparkSession available as 'spark'.\n"
     ]
    },
    {
     "data": {
      "text/html": [
       "Current session configs: <tt>{'executorMemory': '2G', 'driverMemory': '1G', 'executorCores': 1, 'numExecutors': 6, 'conf': {'spark.dynamicAllocation.enabled': 'false', 'spark.sql.parquet.enableVectorizedReader': 'false', 'spark.pyspark.python': 'python3', 'spark.pyspark.virtualenv.enabled': 'true', 'spark.pyspark.virtualenv.type': 'native', 'spark.pyspark.virtualenv.bin.path': '/usr/bin/virtualenv'}, 'proxyUser': 'Group8', 'kind': 'pyspark'}</tt><br>"
      ],
      "text/plain": [
       "<IPython.core.display.HTML object>"
      ]
     },
     "metadata": {},
     "output_type": "display_data"
    },
    {
     "data": {
      "text/html": [
       "<table>\n",
       "<tr><th>ID</th><th>YARN Application ID</th><th>Kind</th><th>State</th><th>Spark UI</th><th>Driver log</th><th>User</th><th>Current session?</th></tr><tr><td>126</td><td>application_1713565790653_0126</td><td>pyspark</td><td>idle</td><td><a target=\"_blank\" href=\"http://ip-10-0-11-112.us-west-2.compute.internal:20888/proxy/application_1713565790653_0126/\">Link</a></td><td><a target=\"_blank\" href=\"http://ip-10-0-9-94.us-west-2.compute.internal:8042/node/containerlogs/container_1713565790653_0126_01_000001/livy\">Link</a></td><td>None</td><td></td></tr><tr><td>138</td><td>application_1713565790653_0138</td><td>pyspark</td><td>idle</td><td><a target=\"_blank\" href=\"http://ip-10-0-11-112.us-west-2.compute.internal:20888/proxy/application_1713565790653_0138/\">Link</a></td><td><a target=\"_blank\" href=\"http://ip-10-0-2-186.us-west-2.compute.internal:8042/node/containerlogs/container_1713565790653_0138_01_000001/livy\">Link</a></td><td>None</td><td></td></tr><tr><td>140</td><td>application_1713565790653_0140</td><td>pyspark</td><td>idle</td><td><a target=\"_blank\" href=\"http://ip-10-0-11-112.us-west-2.compute.internal:20888/proxy/application_1713565790653_0140/\">Link</a></td><td><a target=\"_blank\" href=\"http://ip-10-0-9-155.us-west-2.compute.internal:8042/node/containerlogs/container_1713565790653_0140_01_000001/livy\">Link</a></td><td>None</td><td></td></tr><tr><td>142</td><td>application_1713565790653_0142</td><td>pyspark</td><td>idle</td><td><a target=\"_blank\" href=\"http://ip-10-0-11-112.us-west-2.compute.internal:20888/proxy/application_1713565790653_0142/\">Link</a></td><td><a target=\"_blank\" href=\"http://ip-10-0-9-94.us-west-2.compute.internal:8042/node/containerlogs/container_1713565790653_0142_01_000001/livy\">Link</a></td><td>None</td><td></td></tr><tr><td>143</td><td>application_1713565790653_0143</td><td>pyspark</td><td>idle</td><td><a target=\"_blank\" href=\"http://ip-10-0-11-112.us-west-2.compute.internal:20888/proxy/application_1713565790653_0143/\">Link</a></td><td><a target=\"_blank\" href=\"http://ip-10-0-2-186.us-west-2.compute.internal:8042/node/containerlogs/container_1713565790653_0143_01_000001/livy\">Link</a></td><td>None</td><td></td></tr><tr><td>154</td><td>application_1713565790653_0154</td><td>pyspark</td><td>idle</td><td><a target=\"_blank\" href=\"http://ip-10-0-11-112.us-west-2.compute.internal:20888/proxy/application_1713565790653_0154/\">Link</a></td><td><a target=\"_blank\" href=\"http://ip-10-0-4-22.us-west-2.compute.internal:8042/node/containerlogs/container_1713565790653_0154_01_000002/livy\">Link</a></td><td>None</td><td></td></tr><tr><td>159</td><td>application_1713565790653_0159</td><td>pyspark</td><td>idle</td><td><a target=\"_blank\" href=\"http://ip-10-0-11-112.us-west-2.compute.internal:20888/proxy/application_1713565790653_0159/\">Link</a></td><td><a target=\"_blank\" href=\"http://ip-10-0-4-22.us-west-2.compute.internal:8042/node/containerlogs/container_1713565790653_0159_01_000002/livy\">Link</a></td><td>None</td><td></td></tr><tr><td>161</td><td>application_1713565790653_0161</td><td>pyspark</td><td>idle</td><td><a target=\"_blank\" href=\"http://ip-10-0-11-112.us-west-2.compute.internal:20888/proxy/application_1713565790653_0161/\">Link</a></td><td><a target=\"_blank\" href=\"http://ip-10-0-4-22.us-west-2.compute.internal:8042/node/containerlogs/container_1713565790653_0161_01_000001/livy\">Link</a></td><td>None</td><td>✔</td></tr></table>"
      ],
      "text/plain": [
       "<IPython.core.display.HTML object>"
      ]
     },
     "metadata": {},
     "output_type": "display_data"
    }
   ],
   "source": [
    "%%configure -f\n",
    "{\"executorMemory\": \"2G\",\"driverMemory\":\"1G\",\"executorCores\": 1,\"numExecutors\": 6, \n",
    " \"conf\": {\"spark.dynamicAllocation.enabled\": \"false\", \n",
    "          \"spark.sql.parquet.enableVectorizedReader\": \"false\", \n",
    "          \"spark.pyspark.python\": \"python3\",\n",
    "          \"spark.pyspark.virtualenv.enabled\": \"true\",\n",
    "          \"spark.pyspark.virtualenv.type\": \"native\",\n",
    "          \"spark.pyspark.virtualenv.bin.path\": \"/usr/bin/virtualenv\"}}"
   ]
  },
  {
   "cell_type": "markdown",
   "id": "a388edef",
   "metadata": {},
   "source": [
    "## **_Read and Combine dataframe_**"
   ]
  },
  {
   "cell_type": "code",
   "execution_count": 4,
   "id": "a95be369-3f6e-4ba0-ad30-dbb63248784a",
   "metadata": {},
   "outputs": [
    {
     "data": {
      "application/vnd.jupyter.widget-view+json": {
       "model_id": "",
       "version_major": 2,
       "version_minor": 0
      },
      "text/plain": [
       "FloatProgress(value=0.0, bar_style='info', description='Progress:', layout=Layout(height='25px', width='50%'),…"
      ]
     },
     "metadata": {},
     "output_type": "display_data"
    },
    {
     "name": "stdout",
     "output_type": "stream",
     "text": [
      "+----------+-------------------+--------------------+-------------------+--------------------+--------------------+--------------------+--------------------+\n",
      "|      ISBN|         Book-Title|         Book-Author|Year-Of-Publication|           Publisher|         Image-URL-S|         Image-URL-M|         Image-URL-L|\n",
      "+----------+-------------------+--------------------+-------------------+--------------------+--------------------+--------------------+--------------------+\n",
      "|0195153448|Classical Mythology|  Mark P. O. Morford|               2002|Oxford University...|http://images.ama...|http://images.ama...|http://images.ama...|\n",
      "|0002005018|       Clara Callan|Richard Bruce Wright|               2001|HarperFlamingo Ca...|http://images.ama...|http://images.ama...|http://images.ama...|\n",
      "+----------+-------------------+--------------------+-------------------+--------------------+--------------------+--------------------+--------------------+\n",
      "only showing top 2 rows"
     ]
    }
   ],
   "source": [
    "books = spark.read.options(inferSchema=True, multiLine=True, escape='\\\"', header=True).csv('s3://msbx5420-spr24/teams/Group8/Books.csv')\n",
    "books.show(2)"
   ]
  },
  {
   "cell_type": "code",
   "execution_count": 5,
   "id": "8e4b7fdf-5545-4cf3-81bc-4c0d3b77b14b",
   "metadata": {
    "scrolled": true
   },
   "outputs": [
    {
     "data": {
      "application/vnd.jupyter.widget-view+json": {
       "model_id": "",
       "version_major": 2,
       "version_minor": 0
      },
      "text/plain": [
       "FloatProgress(value=0.0, bar_style='info', description='Progress:', layout=Layout(height='25px', width='50%'),…"
      ]
     },
     "metadata": {},
     "output_type": "display_data"
    },
    {
     "name": "stdout",
     "output_type": "stream",
     "text": [
      "+-------+----------+-----------+\n",
      "|User-ID|      ISBN|Book-Rating|\n",
      "+-------+----------+-----------+\n",
      "| 276725|034545104X|          0|\n",
      "| 276726|0155061224|          5|\n",
      "+-------+----------+-----------+\n",
      "only showing top 2 rows"
     ]
    }
   ],
   "source": [
    "ratings = spark.read.options(inferSchema=True, multiLine=True, escape='\\\"', header=True).csv('s3://msbx5420-spr24/teams/Group8/Ratings.csv')\n",
    "ratings.show(2)"
   ]
  },
  {
   "cell_type": "code",
   "execution_count": 6,
   "id": "5439d6c6-f0e0-4348-a5a5-60bd8c247907",
   "metadata": {
    "scrolled": true
   },
   "outputs": [
    {
     "data": {
      "application/vnd.jupyter.widget-view+json": {
       "model_id": "",
       "version_major": 2,
       "version_minor": 0
      },
      "text/plain": [
       "FloatProgress(value=0.0, bar_style='info', description='Progress:', layout=Layout(height='25px', width='50%'),…"
      ]
     },
     "metadata": {},
     "output_type": "display_data"
    },
    {
     "name": "stdout",
     "output_type": "stream",
     "text": [
      "+-------+--------------------+----+\n",
      "|User-ID|            Location| Age|\n",
      "+-------+--------------------+----+\n",
      "|      1|  nyc, new york, usa|null|\n",
      "|      2|stockton, califor...|18.0|\n",
      "+-------+--------------------+----+\n",
      "only showing top 2 rows"
     ]
    }
   ],
   "source": [
    "users = spark.read.options(inferSchema = True, multiLine = True, escape = '\\\"', header=True).csv('s3://msbx5420-spr24/teams/Group8/Users.csv')\n",
    "users.show(2)"
   ]
  },
  {
   "cell_type": "code",
   "execution_count": 7,
   "id": "76ade1e5-a0f5-4af9-9d1e-490401cf8910",
   "metadata": {
    "scrolled": true
   },
   "outputs": [
    {
     "data": {
      "application/vnd.jupyter.widget-view+json": {
       "model_id": "",
       "version_major": 2,
       "version_minor": 0
      },
      "text/plain": [
       "FloatProgress(value=0.0, bar_style='info', description='Progress:', layout=Layout(height='25px', width='50%'),…"
      ]
     },
     "metadata": {},
     "output_type": "display_data"
    },
    {
     "name": "stdout",
     "output_type": "stream",
     "text": [
      "+----------+-------+-----------+--------------------+-------------+-------------------+--------------------+--------------------+--------------------+--------------------+\n",
      "|      ISBN|User-ID|Book-Rating|          Book-Title|  Book-Author|Year-Of-Publication|           Publisher|         Image-URL-S|         Image-URL-M|         Image-URL-L|\n",
      "+----------+-------+-----------+--------------------+-------------+-------------------+--------------------+--------------------+--------------------+--------------------+\n",
      "|0001900277|  11676|          0|Glue (First Facts...|Harriet Hains|               1989|HarperCollins Pub...|http://images.ama...|http://images.ama...|http://images.ama...|\n",
      "|0001900277| 181659|         10|Glue (First Facts...|Harriet Hains|               1989|HarperCollins Pub...|http://images.ama...|http://images.ama...|http://images.ama...|\n",
      "+----------+-------+-----------+--------------------+-------------+-------------------+--------------------+--------------------+--------------------+--------------------+\n",
      "only showing top 2 rows"
     ]
    }
   ],
   "source": [
    "ratings_books = ratings.join(books, on='ISBN', how='inner')\n",
    "ratings_books.show(2)"
   ]
  },
  {
   "cell_type": "code",
   "execution_count": 8,
   "id": "41efe8e1-d957-4b1b-ac79-e53ec1660d64",
   "metadata": {
    "scrolled": true
   },
   "outputs": [
    {
     "data": {
      "application/vnd.jupyter.widget-view+json": {
       "model_id": "",
       "version_major": 2,
       "version_minor": 0
      },
      "text/plain": [
       "FloatProgress(value=0.0, bar_style='info', description='Progress:', layout=Layout(height='25px', width='50%'),…"
      ]
     },
     "metadata": {},
     "output_type": "display_data"
    },
    {
     "name": "stdout",
     "output_type": "stream",
     "text": [
      "+-------+----------+-----------+--------------------+--------------------+-------------------+------------------+--------------------+--------------------+--------------------+--------------------+----+\n",
      "|User-ID|      ISBN|Book-Rating|          Book-Title|         Book-Author|Year-Of-Publication|         Publisher|         Image-URL-S|         Image-URL-M|         Image-URL-L|            Location| Age|\n",
      "+-------+----------+-----------+--------------------+--------------------+-------------------+------------------+--------------------+--------------------+--------------------+--------------------+----+\n",
      "|  26583|0064640329|          0|Children Through ...|Barbara Kaye Gree...|               1979|Barnes &amp; Noble|http://images.ama...|http://images.ama...|http://images.ama...|dollard des ormea...|null|\n",
      "| 119517|0140293248|          0|The Girls' Guide ...|        Melissa Bank|               2000|     Penguin Books|http://images.ama...|http://images.ama...|http://images.ama...|andover, minnesot...|null|\n",
      "+-------+----------+-----------+--------------------+--------------------+-------------------+------------------+--------------------+--------------------+--------------------+--------------------+----+\n",
      "only showing top 2 rows"
     ]
    }
   ],
   "source": [
    "complete_data = ratings_books.join(users, on='User-ID', how='inner')\n",
    "complete_data.show(2)"
   ]
  },
  {
   "cell_type": "code",
   "execution_count": 9,
   "id": "515e214e-4c07-4611-b2d5-dd66bdd0e4f7",
   "metadata": {},
   "outputs": [
    {
     "data": {
      "application/vnd.jupyter.widget-view+json": {
       "model_id": "",
       "version_major": 2,
       "version_minor": 0
      },
      "text/plain": [
       "FloatProgress(value=0.0, bar_style='info', description='Progress:', layout=Layout(height='25px', width='50%'),…"
      ]
     },
     "metadata": {},
     "output_type": "display_data"
    },
    {
     "name": "stdout",
     "output_type": "stream",
     "text": [
      "['User-ID', 'ISBN', 'Book-Rating', 'Book-Title', 'Book-Author', 'Year-Of-Publication', 'Publisher', 'Image-URL-S', 'Image-URL-M', 'Image-URL-L', 'Location', 'Age']"
     ]
    }
   ],
   "source": [
    "column_names = complete_data.columns\n",
    "print(column_names)"
   ]
  },
  {
   "cell_type": "code",
   "execution_count": 10,
   "id": "ab69c434-6072-481f-aa85-238402affe06",
   "metadata": {},
   "outputs": [
    {
     "data": {
      "application/vnd.jupyter.widget-view+json": {
       "model_id": "",
       "version_major": 2,
       "version_minor": 0
      },
      "text/plain": [
       "FloatProgress(value=0.0, bar_style='info', description='Progress:', layout=Layout(height='25px', width='50%'),…"
      ]
     },
     "metadata": {},
     "output_type": "display_data"
    },
    {
     "name": "stdout",
     "output_type": "stream",
     "text": [
      "+-------+----------+-----------+--------------------+------------------+-------------------+--------------------+--------------------+--------------------+--------------------+--------------------+----+\n",
      "|User-ID|      ISBN|Book-Rating|          Book-Title|       Book-Author|Year-Of-Publication|           Publisher|         Image-URL-S|         Image-URL-M|         Image-URL-L|            Location| Age|\n",
      "+-------+----------+-----------+--------------------+------------------+-------------------+--------------------+--------------------+--------------------+--------------------+--------------------+----+\n",
      "| 198711|0590404008|          0|     Hundred Dresses|     Eleanor Estes|                  0|      Scholastic Inc|http://images.ama...|http://images.ama...|http://images.ama...|little canada, mi...|62.0|\n",
      "| 158295|1566199735|          5|    A Z Aromatherapy|    Patricia Davis|                  0|Dorset House Publ...|http://images.ama...|http://images.ama...|http://images.ama...|cleveland, ohio, usa|null|\n",
      "| 188598|8432021903|          5|Los Renglones Tor...|      Luca de Tena|                  0|Editorial Planeta...|http://images.ama...|http://images.ama...|http://images.ama...|barcelona, barcel...|28.0|\n",
      "| 110826|0753804700|          9|              Reader|  Bernhard Schlink|                  0|       Phoenix Books|http://images.ama...|http://images.ama...|http://images.ama...|belfast, northern...|33.0|\n",
      "|  69405|0330332015|          0|     Beautiful Visit|Elizabeth J Howard|                  0|       Pan Books Ltd|http://images.ama...|http://images.ama...|http://images.ama...|ede, gelderland, ...|36.0|\n",
      "|  73895|0571081789|          6|            Bell Jar|      Sylvia Plath|                  0|     Faber Faber Inc|http://images.ama...|http://images.ama...|http://images.ama...|basingstoke, engl...|42.0|\n",
      "| 180957|033036197X|          0|    People of Heaven|   Beverley Harper|                  0|Pan Macmillan Aus...|http://images.ama...|http://images.ama...|http://images.ama...|adelaide, south a...|null|\n",
      "| 146230|0590416340|          0|     First Dinosaurs|      Dougal Dixon|                  0|      Scholastic Inc|http://images.ama...|http://images.ama...|http://images.ama...|      bourbonnais, ,|49.0|\n",
      "| 266753|0330026410|         10|In This House of ...|      Rumer Godden|                  0|       Pan Macmillan|http://images.ama...|http://images.ama...|http://images.ama...|oakland, californ...|null|\n",
      "| 194653|8835945437|          5|Storia Del Cinema...|        G Brunetta|                  0|     Editori Riuniti|http://images.ama...|http://images.ama...|http://images.ama...|milano, lombardia...|null|\n",
      "| 168464|0590404008|          5|     Hundred Dresses|     Eleanor Estes|                  0|      Scholastic Inc|http://images.ama...|http://images.ama...|http://images.ama...|antioch, illinois...|11.0|\n",
      "| 115552|0140283641|          0|            Kits Law|   Donna Morrissey|                  0|Penguin Putnam~trade|http://images.ama...|http://images.ama...|http://images.ama...|blairmore, albert...|30.0|\n",
      "|  23200|3442089832|          0|Der Kuss Kunst Un...|       Anne Delbee|                  0|     Goldmann Verlag|http://images.ama...|http://images.ama...|http://images.ama...|dallgow-döberitz,...|30.0|\n",
      "|  49144|8427201648|          8|Srta Marple Y Tre...|          Christie|                  0|    Editorial Molino|http://images.ama...|http://images.ama...|http://images.ama...|ferreries, illes ...|43.0|\n",
      "| 122037|2290044369|          0|Le Champ De Personne|    Daniel Picouly|                  0|         Editions 84|http://images.ama...|http://images.ama...|http://images.ama...|bochum, nordrhein...|27.0|\n",
      "| 114667|0571081789|          0|            Bell Jar|      Sylvia Plath|                  0|     Faber Faber Inc|http://images.ama...|http://images.ama...|http://images.ama...|wellington, n/a, ...|null|\n",
      "|  94853|0712654542|          0|             Chamber|      John Grisham|                  0|    Trafalgar Square|http://images.ama...|http://images.ama...|http://images.ama...|christchurch, can...|27.0|\n",
      "| 172203|0965270912|         10|          My Brother|   Jamaica Kincaid|                  0|Farrar Straus Giroux|http://images.ama...|http://images.ama...|http://images.ama...|    sandy, utah, usa|45.0|\n",
      "| 269061|0330262130|          0|Restaurant At the...|     Douglas Adams|                  0|       Pan Books Ltd|http://images.ama...|http://images.ama...|http://images.ama...|new plymouth, tar...|13.0|\n",
      "|  18414|3453052803|          0|         Die Libelle|     John Le Carre|                  0|Wilhelm Heyne Verlag|http://images.ama...|http://images.ama...|http://images.ama...|hamburg, hamburg,...|28.0|\n",
      "+-------+----------+-----------+--------------------+------------------+-------------------+--------------------+--------------------+--------------------+--------------------+--------------------+----+\n",
      "only showing top 20 rows"
     ]
    }
   ],
   "source": [
    "complete_data.sort(\"Year-Of-Publication\", ascending = True).show()"
   ]
  },
  {
   "cell_type": "code",
   "execution_count": 11,
   "id": "2f3ba177-80fa-46ea-8cb1-c213e649d1f0",
   "metadata": {},
   "outputs": [
    {
     "data": {
      "application/vnd.jupyter.widget-view+json": {
       "model_id": "",
       "version_major": 2,
       "version_minor": 0
      },
      "text/plain": [
       "FloatProgress(value=0.0, bar_style='info', description='Progress:', layout=Layout(height='25px', width='50%'),…"
      ]
     },
     "metadata": {},
     "output_type": "display_data"
    },
    {
     "name": "stdout",
     "output_type": "stream",
     "text": [
      "+-------+----------+-----------+--------------------+-------------------+-------------------+----------------+--------------------+----+\n",
      "|User-ID|      ISBN|Book-Rating|          Book-Title|        Book-Author|Year-Of-Publication|       Publisher|            Location| Age|\n",
      "+-------+----------+-----------+--------------------+-------------------+-------------------+----------------+--------------------+----+\n",
      "|  26583|0140507922|         10|         Bear Circus|William Pene Dubois|               1987|     Penguin USA|dollard des ormea...|null|\n",
      "| 104880|0345339703|          9|The Fellowship of...|     J.R.R. TOLKIEN|               1986|         Del Rey|madison, wisconsi...|21.0|\n",
      "| 104880|0345361989|          0|Guests of the Emp...|Janice Young Brooks|               1992|Ballantine Books|madison, wisconsi...|21.0|\n",
      "| 275481|0345446666|          8|Death in Holy Ord...|         P.D. JAMES|               2002|         Fawcett|tucson, arizona, usa|64.0|\n",
      "| 240209|0345450418|          8|   Impossible Places|   Alan Dean Foster|               2002|   Del Rey Books| houston, texas, usa|null|\n",
      "+-------+----------+-----------+--------------------+-------------------+-------------------+----------------+--------------------+----+\n",
      "only showing top 5 rows"
     ]
    }
   ],
   "source": [
    "abook = complete_data.select('User-ID', 'ISBN', 'Book-Rating', 'Book-Title', 'Book-Author', 'Year-Of-Publication', 'Publisher','Location', 'Age' )\n",
    "abook.show(5)"
   ]
  },
  {
   "cell_type": "code",
   "execution_count": 12,
   "id": "75fada10-b8fb-4309-8548-a0598313a053",
   "metadata": {},
   "outputs": [
    {
     "data": {
      "application/vnd.jupyter.widget-view+json": {
       "model_id": "",
       "version_major": 2,
       "version_minor": 0
      },
      "text/plain": [
       "FloatProgress(value=0.0, bar_style='info', description='Progress:', layout=Layout(height='25px', width='50%'),…"
      ]
     },
     "metadata": {},
     "output_type": "display_data"
    },
    {
     "name": "stdout",
     "output_type": "stream",
     "text": [
      "root\n",
      " |-- User-ID: integer (nullable = true)\n",
      " |-- ISBN: string (nullable = true)\n",
      " |-- Book-Rating: integer (nullable = true)\n",
      " |-- Book-Title: string (nullable = true)\n",
      " |-- Book-Author: string (nullable = true)\n",
      " |-- Year-Of-Publication: string (nullable = true)\n",
      " |-- Publisher: string (nullable = true)\n",
      " |-- Location: string (nullable = true)\n",
      " |-- Age: double (nullable = true)"
     ]
    }
   ],
   "source": [
    "abook.printSchema()"
   ]
  },
  {
   "cell_type": "markdown",
   "id": "894467bc-aaf0-486e-bd3a-931cd2b6401d",
   "metadata": {},
   "source": [
    "## **_Data preprocessing and Descriptive statistics_**"
   ]
  },
  {
   "cell_type": "code",
   "execution_count": 13,
   "id": "5569d3bc-bba5-4faf-8fc3-cda752c11ae4",
   "metadata": {},
   "outputs": [
    {
     "data": {
      "application/vnd.jupyter.widget-view+json": {
       "model_id": "",
       "version_major": 2,
       "version_minor": 0
      },
      "text/plain": [
       "FloatProgress(value=0.0, bar_style='info', description='Progress:', layout=Layout(height='25px', width='50%'),…"
      ]
     },
     "metadata": {},
     "output_type": "display_data"
    },
    {
     "name": "stdout",
     "output_type": "stream",
     "text": [
      "+-----------+------+\n",
      "|Book-Rating| count|\n",
      "+-----------+------+\n",
      "|          0|647294|\n",
      "|          1|  1481|\n",
      "|          2|  2375|\n",
      "|          3|  5118|\n",
      "|          4|  7617|\n",
      "|          5| 45355|\n",
      "|          6| 31687|\n",
      "|          7| 66402|\n",
      "|          8| 91804|\n",
      "|          9| 60778|\n",
      "|         10| 71225|\n",
      "+-----------+------+"
     ]
    }
   ],
   "source": [
    "from pyspark.sql import functions as F\n",
    "rating_counts = abook.groupBy('Book-Rating').count().sort('Book-Rating')\n",
    "rating_counts.show()"
   ]
  },
  {
   "cell_type": "code",
   "execution_count": 14,
   "id": "76298c8b",
   "metadata": {},
   "outputs": [
    {
     "data": {
      "application/vnd.jupyter.widget-view+json": {
       "model_id": "",
       "version_major": 2,
       "version_minor": 0
      },
      "text/plain": [
       "FloatProgress(value=0.0, bar_style='info', description='Progress:', layout=Layout(height='25px', width='50%'),…"
      ]
     },
     "metadata": {},
     "output_type": "display_data"
    },
    {
     "name": "stdout",
     "output_type": "stream",
     "text": [
      "Collecting pandas\n",
      "  Downloading pandas-1.3.5-cp37-cp37m-manylinux_2_17_x86_64.manylinux2014_x86_64.whl (11.3 MB)\n",
      "Collecting python-dateutil>=2.7.3\n",
      "  Downloading python_dateutil-2.9.0.post0-py2.py3-none-any.whl (229 kB)\n",
      "Requirement already satisfied: numpy>=1.17.3; platform_machine != \"aarch64\" and platform_machine != \"arm64\" and python_version < \"3.10\" in /usr/local/lib64/python3.7/site-packages (from pandas) (1.20.0)\n",
      "Requirement already satisfied: pytz>=2017.3 in /usr/local/lib/python3.7/site-packages (from pandas) (2023.3.post1)\n",
      "Requirement already satisfied: six>=1.5 in /usr/local/lib/python3.7/site-packages (from python-dateutil>=2.7.3->pandas) (1.13.0)\n",
      "Installing collected packages: python-dateutil, pandas\n",
      "Successfully installed pandas-1.3.5 python-dateutil-2.9.0.post0\n",
      "\n",
      "WARNING: The directory '/home/.cache/pip' or its parent directory is not owned or is not writable by the current user. The cache has been disabled. Check the permissions and owner of that directory. If executing pip with sudo, you may want sudo's -H flag."
     ]
    }
   ],
   "source": [
    "sc.install_pypi_package(\"pandas\")  #sc.install_pypi_package(\"pandas==0.25.1\")"
   ]
  },
  {
   "cell_type": "code",
   "execution_count": 15,
   "id": "bff5dcd4",
   "metadata": {},
   "outputs": [
    {
     "data": {
      "application/vnd.jupyter.widget-view+json": {
       "model_id": "",
       "version_major": 2,
       "version_minor": 0
      },
      "text/plain": [
       "FloatProgress(value=0.0, bar_style='info', description='Progress:', layout=Layout(height='25px', width='50%'),…"
      ]
     },
     "metadata": {},
     "output_type": "display_data"
    },
    {
     "name": "stdout",
     "output_type": "stream",
     "text": [
      "Collecting matplotlib\n",
      "  Downloading matplotlib-3.5.3-cp37-cp37m-manylinux_2_5_x86_64.manylinux1_x86_64.whl (11.2 MB)\n",
      "Requirement already satisfied: numpy>=1.17 in /usr/local/lib64/python3.7/site-packages (from matplotlib) (1.20.0)\n",
      "Collecting packaging>=20.0\n",
      "  Downloading packaging-24.0-py3-none-any.whl (53 kB)\n",
      "Requirement already satisfied: python-dateutil>=2.7 in ./tmp/spark-4cbbb27a-eb56-4244-9303-7e49883e8846/lib/python3.7/site-packages (from matplotlib) (2.9.0.post0)\n",
      "Collecting pyparsing>=2.2.1\n",
      "  Downloading pyparsing-3.1.2-py3-none-any.whl (103 kB)\n",
      "Collecting cycler>=0.10\n",
      "  Downloading cycler-0.11.0-py3-none-any.whl (6.4 kB)\n",
      "Collecting kiwisolver>=1.0.1\n",
      "  Downloading kiwisolver-1.4.5-cp37-cp37m-manylinux_2_5_x86_64.manylinux1_x86_64.whl (1.1 MB)\n",
      "Collecting pillow>=6.2.0\n",
      "  Downloading Pillow-9.5.0-cp37-cp37m-manylinux_2_17_x86_64.manylinux2014_x86_64.whl (3.3 MB)\n",
      "Collecting fonttools>=4.22.0\n",
      "  Downloading fonttools-4.38.0-py3-none-any.whl (965 kB)\n",
      "Requirement already satisfied: six>=1.5 in /usr/local/lib/python3.7/site-packages (from python-dateutil>=2.7->matplotlib) (1.13.0)\n",
      "Collecting typing-extensions; python_version < \"3.8\"\n",
      "  Downloading typing_extensions-4.7.1-py3-none-any.whl (33 kB)\n",
      "Installing collected packages: packaging, pyparsing, cycler, typing-extensions, kiwisolver, pillow, fonttools, matplotlib\n",
      "Successfully installed cycler-0.11.0 fonttools-4.38.0 kiwisolver-1.4.5 matplotlib-3.5.3 packaging-24.0 pillow-9.5.0 pyparsing-3.1.2 typing-extensions-4.7.1\n",
      "\n",
      "WARNING: The directory '/home/.cache/pip' or its parent directory is not owned or is not writable by the current user. The cache has been disabled. Check the permissions and owner of that directory. If executing pip with sudo, you may want sudo's -H flag."
     ]
    }
   ],
   "source": [
    "sc.install_pypi_package(\"matplotlib\")\n"
   ]
  },
  {
   "cell_type": "code",
   "execution_count": 16,
   "id": "702aa54f",
   "metadata": {},
   "outputs": [
    {
     "data": {
      "application/vnd.jupyter.widget-view+json": {
       "model_id": "",
       "version_major": 2,
       "version_minor": 0
      },
      "text/plain": [
       "FloatProgress(value=0.0, bar_style='info', description='Progress:', layout=Layout(height='25px', width='50%'),…"
      ]
     },
     "metadata": {},
     "output_type": "display_data"
    },
    {
     "name": "stdout",
     "output_type": "stream",
     "text": [
      "Requirement already satisfied: numpy in /usr/local/lib64/python3.7/site-packages (1.20.0)\n",
      "\n",
      "WARNING: The directory '/home/.cache/pip' or its parent directory is not owned or is not writable by the current user. The cache has been disabled. Check the permissions and owner of that directory. If executing pip with sudo, you may want sudo's -H flag."
     ]
    }
   ],
   "source": [
    "sc.install_pypi_package(\"numpy\")"
   ]
  },
  {
   "cell_type": "code",
   "execution_count": 17,
   "id": "d7b8f6af",
   "metadata": {},
   "outputs": [
    {
     "data": {
      "application/vnd.jupyter.widget-view+json": {
       "model_id": "",
       "version_major": 2,
       "version_minor": 0
      },
      "text/plain": [
       "FloatProgress(value=0.0, bar_style='info', description='Progress:', layout=Layout(height='25px', width='50%'),…"
      ]
     },
     "metadata": {},
     "output_type": "display_data"
    },
    {
     "name": "stdout",
     "output_type": "stream",
     "text": [
      "Collecting seaborn\n",
      "  Downloading seaborn-0.12.2-py3-none-any.whl (293 kB)\n",
      "Requirement already satisfied: pandas>=0.25 in ./tmp/spark-4cbbb27a-eb56-4244-9303-7e49883e8846/lib/python3.7/site-packages (from seaborn) (1.3.5)\n",
      "Requirement already satisfied: numpy!=1.24.0,>=1.17 in /usr/local/lib64/python3.7/site-packages (from seaborn) (1.20.0)\n",
      "Requirement already satisfied: typing_extensions; python_version < \"3.8\" in ./tmp/spark-4cbbb27a-eb56-4244-9303-7e49883e8846/lib/python3.7/site-packages (from seaborn) (4.7.1)\n",
      "Requirement already satisfied: matplotlib!=3.6.1,>=3.1 in ./tmp/spark-4cbbb27a-eb56-4244-9303-7e49883e8846/lib/python3.7/site-packages (from seaborn) (3.5.3)\n",
      "Requirement already satisfied: python-dateutil>=2.7.3 in ./tmp/spark-4cbbb27a-eb56-4244-9303-7e49883e8846/lib/python3.7/site-packages (from pandas>=0.25->seaborn) (2.9.0.post0)\n",
      "Requirement already satisfied: pytz>=2017.3 in /usr/local/lib/python3.7/site-packages (from pandas>=0.25->seaborn) (2023.3.post1)\n",
      "Requirement already satisfied: packaging>=20.0 in ./tmp/spark-4cbbb27a-eb56-4244-9303-7e49883e8846/lib/python3.7/site-packages (from matplotlib!=3.6.1,>=3.1->seaborn) (24.0)\n",
      "Requirement already satisfied: pyparsing>=2.2.1 in ./tmp/spark-4cbbb27a-eb56-4244-9303-7e49883e8846/lib/python3.7/site-packages (from matplotlib!=3.6.1,>=3.1->seaborn) (3.1.2)\n",
      "Requirement already satisfied: cycler>=0.10 in ./tmp/spark-4cbbb27a-eb56-4244-9303-7e49883e8846/lib/python3.7/site-packages (from matplotlib!=3.6.1,>=3.1->seaborn) (0.11.0)\n",
      "Requirement already satisfied: kiwisolver>=1.0.1 in ./tmp/spark-4cbbb27a-eb56-4244-9303-7e49883e8846/lib/python3.7/site-packages (from matplotlib!=3.6.1,>=3.1->seaborn) (1.4.5)\n",
      "Requirement already satisfied: pillow>=6.2.0 in ./tmp/spark-4cbbb27a-eb56-4244-9303-7e49883e8846/lib/python3.7/site-packages (from matplotlib!=3.6.1,>=3.1->seaborn) (9.5.0)\n",
      "Requirement already satisfied: fonttools>=4.22.0 in ./tmp/spark-4cbbb27a-eb56-4244-9303-7e49883e8846/lib/python3.7/site-packages (from matplotlib!=3.6.1,>=3.1->seaborn) (4.38.0)\n",
      "Requirement already satisfied: six>=1.5 in /usr/local/lib/python3.7/site-packages (from python-dateutil>=2.7.3->pandas>=0.25->seaborn) (1.13.0)\n",
      "Installing collected packages: seaborn\n",
      "Successfully installed seaborn-0.12.2\n",
      "\n",
      "WARNING: The directory '/home/.cache/pip' or its parent directory is not owned or is not writable by the current user. The cache has been disabled. Check the permissions and owner of that directory. If executing pip with sudo, you may want sudo's -H flag."
     ]
    }
   ],
   "source": [
    "sc.install_pypi_package(\"seaborn\")"
   ]
  },
  {
   "cell_type": "code",
   "execution_count": 18,
   "id": "fb336fa8-72c1-400c-8bcf-df1502880296",
   "metadata": {},
   "outputs": [
    {
     "data": {
      "application/vnd.jupyter.widget-view+json": {
       "model_id": "",
       "version_major": 2,
       "version_minor": 0
      },
      "text/plain": [
       "FloatProgress(value=0.0, bar_style='info', description='Progress:', layout=Layout(height='25px', width='50%'),…"
      ]
     },
     "metadata": {},
     "output_type": "display_data"
    },
    {
     "name": "stdout",
     "output_type": "stream",
     "text": [
      "+-------+-----------------+--------------------+-----------------+--------------------+--------------+-------------------+--------------------+--------------------+-----------------+\n",
      "|summary|          User-ID|                ISBN|      Book-Rating|          Book-Title|   Book-Author|Year-Of-Publication|           Publisher|            Location|              Age|\n",
      "+-------+-----------------+--------------------+-----------------+--------------------+--------------+-------------------+--------------------+--------------------+-----------------+\n",
      "|  count|          1031136|             1031136|          1031136|             1031136|       1031135|            1031136|             1031134|             1031136|           753301|\n",
      "|   mean|140594.5035058421| 7.713305080609732E8|2.839051298761754|            Infinity|       2000.75| 1968.1949149090515|  25032.333333333332|                null|37.39764848314286|\n",
      "| stddev| 80524.6590394707|1.1111196740559175E9|3.854156635175236|                 NaN|           1.5|  231.1014839369139|   21676.03850645531|                null|14.09825422978989|\n",
      "|    min|                2|          0000913154|                0| A Light in the S...|      D. Chiel|                  0| Editions P. Terrail|&#304;stanbul, n/...|              0.0|\n",
      "|    max|           278854|          B0002K6K8O|               10|   Ã?Â?thique en toc|Ã?Â?ric Holder|          Gallimard|      Ã?Â¶bv&amp;hpt|  ýzmir, n/a, turkey|            244.0|\n",
      "+-------+-----------------+--------------------+-----------------+--------------------+--------------+-------------------+--------------------+--------------------+-----------------+"
     ]
    }
   ],
   "source": [
    "# summary statistics\n",
    "summary = abook.describe()\n",
    "summary.show()"
   ]
  },
  {
   "cell_type": "code",
   "execution_count": 19,
   "id": "f918dfb4-a444-471b-8dce-c19ac26757d0",
   "metadata": {},
   "outputs": [
    {
     "data": {
      "application/vnd.jupyter.widget-view+json": {
       "model_id": "",
       "version_major": 2,
       "version_minor": 0
      },
      "text/plain": [
       "FloatProgress(value=0.0, bar_style='info', description='Progress:', layout=Layout(height='25px', width='50%'),…"
      ]
     },
     "metadata": {},
     "output_type": "display_data"
    },
    {
     "name": "stdout",
     "output_type": "stream",
     "text": [
      "+-------------------+----------+\n",
      "|             Column|Null_Count|\n",
      "+-------------------+----------+\n",
      "|            User-ID|         0|\n",
      "|               ISBN|         0|\n",
      "|        Book-Rating|         0|\n",
      "|         Book-Title|         0|\n",
      "|        Book-Author|         1|\n",
      "|Year-Of-Publication|         0|\n",
      "|          Publisher|         2|\n",
      "|           Location|         0|\n",
      "|                Age|    277835|\n",
      "+-------------------+----------+"
     ]
    }
   ],
   "source": [
    "##### null value count #####\n",
    "\n",
    "from pyspark.sql.functions import col\n",
    "null_counts = [abook.filter(col(c).isNull()).count() for c in abook.columns]\n",
    "null_counts_abook = spark.createDataFrame(zip(abook.columns, null_counts), ['Column', 'Null_Count'])\n",
    "null_counts_abook.show()"
   ]
  },
  {
   "cell_type": "code",
   "execution_count": 20,
   "id": "209a4e41-4864-4d93-890a-4be11188308a",
   "metadata": {},
   "outputs": [
    {
     "data": {
      "application/vnd.jupyter.widget-view+json": {
       "model_id": "",
       "version_major": 2,
       "version_minor": 0
      },
      "text/plain": [
       "FloatProgress(value=0.0, bar_style='info', description='Progress:', layout=Layout(height='25px', width='50%'),…"
      ]
     },
     "metadata": {},
     "output_type": "display_data"
    },
    {
     "name": "stdout",
     "output_type": "stream",
     "text": [
      "Shape of the DataFrame: (1031136, 9)"
     ]
    }
   ],
   "source": [
    "####shape of the DataFrame #######\n",
    "\n",
    "num_rows = abook.count()\n",
    "num_cols = len(abook.columns)\n",
    "print(\"Shape of the DataFrame:\", (num_rows, num_cols))"
   ]
  },
  {
   "cell_type": "code",
   "execution_count": 21,
   "id": "44b16a40-6d27-4fc3-a050-edca9d351c39",
   "metadata": {},
   "outputs": [
    {
     "data": {
      "application/vnd.jupyter.widget-view+json": {
       "model_id": "",
       "version_major": 2,
       "version_minor": 0
      },
      "text/plain": [
       "FloatProgress(value=0.0, bar_style='info', description='Progress:', layout=Layout(height='25px', width='50%'),…"
      ]
     },
     "metadata": {},
     "output_type": "display_data"
    },
    {
     "name": "stdout",
     "output_type": "stream",
     "text": [
      "Number of unique User: 92106\n",
      "Number of unique ISBN: 270151"
     ]
    }
   ],
   "source": [
    "############ Unique count ##################\n",
    "\n",
    "unique_user_count = abook.select(\"User-ID\").distinct().count()\n",
    "print(\"Number of unique User:\", unique_user_count)\n",
    "unique_ISBN_count = abook.select('ISBN').distinct().count()\n",
    "print(\"Number of unique ISBN:\", unique_ISBN_count)"
   ]
  },
  {
   "cell_type": "code",
   "execution_count": 22,
   "id": "241eedd6-4712-4407-89e1-4614cc6b0fff",
   "metadata": {},
   "outputs": [
    {
     "data": {
      "application/vnd.jupyter.widget-view+json": {
       "model_id": "",
       "version_major": 2,
       "version_minor": 0
      },
      "text/plain": [
       "FloatProgress(value=0.0, bar_style='info', description='Progress:', layout=Layout(height='25px', width='50%'),…"
      ]
     },
     "metadata": {},
     "output_type": "display_data"
    }
   ],
   "source": [
    "#abook = abook.select(abook[\"User-ID\"].cast(\"integer\"),\n",
    "                         #abook[\"ISBN\"].cast(\"integer\"),\n",
    "                       #abook[\"Book-Rating\"].cast(\"float\"))\n",
    "\n",
    "#abook.printSchema()"
   ]
  },
  {
   "cell_type": "code",
   "execution_count": 23,
   "id": "48356197-7f1e-4f51-9cae-ce3deba386c0",
   "metadata": {},
   "outputs": [
    {
     "data": {
      "application/vnd.jupyter.widget-view+json": {
       "model_id": "",
       "version_major": 2,
       "version_minor": 0
      },
      "text/plain": [
       "FloatProgress(value=0.0, bar_style='info', description='Progress:', layout=Layout(height='25px', width='50%'),…"
      ]
     },
     "metadata": {},
     "output_type": "display_data"
    }
   ],
   "source": [
    "from pyspark.sql.functions import regexp_replace\n",
    "\n",
    "abook = abook.withColumn(\"Year-Of-Publication\", regexp_replace(\"Year-Of-Publication\", \"[^0-9]\", \"\"))\n",
    "abook = abook.withColumn(\"Year-Of-Publication\", col(\"Year-Of-Publication\").cast(\"integer\"))"
   ]
  },
  {
   "cell_type": "code",
   "execution_count": 24,
   "id": "86e07bdd-c131-4de9-92d8-67b81e9e671e",
   "metadata": {},
   "outputs": [
    {
     "data": {
      "application/vnd.jupyter.widget-view+json": {
       "model_id": "",
       "version_major": 2,
       "version_minor": 0
      },
      "text/plain": [
       "FloatProgress(value=0.0, bar_style='info', description='Progress:', layout=Layout(height='25px', width='50%'),…"
      ]
     },
     "metadata": {},
     "output_type": "display_data"
    }
   ],
   "source": [
    "abook = abook.na.drop(subset=['User-ID', 'ISBN', 'Book-Rating','Year-Of-Publication','Book-Author','Publisher','Age'])"
   ]
  },
  {
   "cell_type": "code",
   "execution_count": 25,
   "id": "a53cfb98-372e-401b-b188-869076fbc017",
   "metadata": {},
   "outputs": [
    {
     "data": {
      "application/vnd.jupyter.widget-view+json": {
       "model_id": "",
       "version_major": 2,
       "version_minor": 0
      },
      "text/plain": [
       "FloatProgress(value=0.0, bar_style='info', description='Progress:', layout=Layout(height='25px', width='50%'),…"
      ]
     },
     "metadata": {},
     "output_type": "display_data"
    },
    {
     "name": "stdout",
     "output_type": "stream",
     "text": [
      "+-------+------------------+--------------------+-----------------+--------------------+--------------+-------------------+--------------------+--------------------+------------------+\n",
      "|summary|           User-ID|                ISBN|      Book-Rating|          Book-Title|   Book-Author|Year-Of-Publication|           Publisher|            Location|               Age|\n",
      "+-------+------------------+--------------------+-----------------+--------------------+--------------+-------------------+--------------------+--------------------+------------------+\n",
      "|  count|            753296|              753296|           753296|              753296|        753296|             753296|              753296|              753296|            753296|\n",
      "|   mean|141231.20758108367| 7.943365196115569E8|2.768895626685924|            Infinity|          null| 1967.6707243898813|             18775.0|                null| 37.39765776003058|\n",
      "| stddev| 78828.59480816725|1.1623927382564003E9|3.864231387680776|                 NaN|          null|  233.4051715540529|   26547.61699286774|                null|14.098256962176677|\n",
      "|    min|                 2|          0000913154|                0| A Light in the S...|      D. Chiel|                  0| Editions P. Terrail|&#304;stanbul, n/...|               0.0|\n",
      "|    max|            278852|          B0002K6K8O|               10|   Ã?Â?thique en toc|Ã?Â?ric Holder|               2050|      Ã?Â¶bv&amp;hpt|  ýzmir, n/a, turkey|             244.0|\n",
      "+-------+------------------+--------------------+-----------------+--------------------+--------------+-------------------+--------------------+--------------------+------------------+"
     ]
    }
   ],
   "source": [
    "aa= abook.describe()\n",
    "aa.show()"
   ]
  },
  {
   "cell_type": "code",
   "execution_count": 26,
   "id": "18ef66b9-958a-46c7-9eee-0ef5b428584d",
   "metadata": {},
   "outputs": [
    {
     "data": {
      "application/vnd.jupyter.widget-view+json": {
       "model_id": "",
       "version_major": 2,
       "version_minor": 0
      },
      "text/plain": [
       "FloatProgress(value=0.0, bar_style='info', description='Progress:', layout=Layout(height='25px', width='50%'),…"
      ]
     },
     "metadata": {},
     "output_type": "display_data"
    },
    {
     "name": "stdout",
     "output_type": "stream",
     "text": [
      "+-------------------+\n",
      "|Year-Of-Publication|\n",
      "+-------------------+\n",
      "|                  0|\n",
      "|               1376|\n",
      "|               1378|\n",
      "|               1897|\n",
      "|               1900|\n",
      "|               1901|\n",
      "|               1902|\n",
      "|               1908|\n",
      "|               1909|\n",
      "|               1911|\n",
      "|               1914|\n",
      "|               1917|\n",
      "|               1920|\n",
      "|               1921|\n",
      "|               1922|\n",
      "|               1923|\n",
      "|               1924|\n",
      "|               1925|\n",
      "|               1926|\n",
      "|               1927|\n",
      "+-------------------+\n",
      "only showing top 20 rows\n",
      "\n",
      "109"
     ]
    }
   ],
   "source": [
    "year = abook.select(\"Year-Of-Publication\").distinct()\n",
    "year.sort(\"Year-Of-Publication\", ascending = True).show()\n",
    "year.count()"
   ]
  },
  {
   "cell_type": "code",
   "execution_count": 27,
   "id": "0b55ecd8-12a1-416d-9759-60d72331c238",
   "metadata": {},
   "outputs": [
    {
     "data": {
      "application/vnd.jupyter.widget-view+json": {
       "model_id": "",
       "version_major": 2,
       "version_minor": 0
      },
      "text/plain": [
       "FloatProgress(value=0.0, bar_style='info', description='Progress:', layout=Layout(height='25px', width='50%'),…"
      ]
     },
     "metadata": {},
     "output_type": "display_data"
    },
    {
     "name": "stdout",
     "output_type": "stream",
     "text": [
      "+-------------------+----------+\n",
      "|             Column|Null_Count|\n",
      "+-------------------+----------+\n",
      "|            User-ID|         0|\n",
      "|               ISBN|         0|\n",
      "|        Book-Rating|         0|\n",
      "|         Book-Title|         0|\n",
      "|        Book-Author|         0|\n",
      "|Year-Of-Publication|         0|\n",
      "|          Publisher|         0|\n",
      "|           Location|         0|\n",
      "|                Age|         0|\n",
      "+-------------------+----------+"
     ]
    }
   ],
   "source": [
    "#### check after drop NA\n",
    "from pyspark.sql.functions import col\n",
    "null_counts = [abook.filter(col(c).isNull()).count() for c in abook.columns]\n",
    "null_counts_abook = spark.createDataFrame(zip(abook.columns, null_counts), ['Column', 'Null_Count'])\n",
    "null_counts_abook.show()"
   ]
  },
  {
   "cell_type": "code",
   "execution_count": 28,
   "id": "1bb1c0d3-4fe8-471b-b875-a1a71ef64921",
   "metadata": {},
   "outputs": [
    {
     "data": {
      "application/vnd.jupyter.widget-view+json": {
       "model_id": "",
       "version_major": 2,
       "version_minor": 0
      },
      "text/plain": [
       "FloatProgress(value=0.0, bar_style='info', description='Progress:', layout=Layout(height='25px', width='50%'),…"
      ]
     },
     "metadata": {},
     "output_type": "display_data"
    },
    {
     "name": "stdout",
     "output_type": "stream",
     "text": [
      "+-------+--------------+------------+\n",
      "|User-ID|average_rating|rating_count|\n",
      "+-------+--------------+------------+\n",
      "| 210010|           0.0|          24|\n",
      "| 143820|           0.0|           1|\n",
      "| 278235|           0.0|           1|\n",
      "|  80155|           0.0|           1|\n",
      "|  65787|           0.0|           1|\n",
      "| 232380|           0.0|           3|\n",
      "|  31172|           0.0|          27|\n",
      "| 156421|           0.0|           5|\n",
      "| 255320|           0.0|           2|\n",
      "| 214098|           0.0|           1|\n",
      "| 208551|           0.0|           5|\n",
      "|  18217|           0.0|           1|\n",
      "| 204247|           0.0|           1|\n",
      "|  30857|           0.0|           2|\n",
      "| 173830|           0.0|           2|\n",
      "|  62882|           0.0|           1|\n",
      "| 233853|           0.0|          27|\n",
      "| 231911|           0.0|           1|\n",
      "| 264678|           0.0|           2|\n",
      "| 276184|           0.0|           8|\n",
      "+-------+--------------+------------+\n",
      "only showing top 20 rows"
     ]
    }
   ],
   "source": [
    "from pyspark.sql.functions import avg, count\n",
    "\n",
    "# average rating for each user\n",
    "average_ratings = abook.groupBy(\"User-ID\").agg(avg(\"Book-Rating\").alias(\"average_rating\"), count(\"Book-Rating\").alias(\"rating_count\"))\n",
    "average_ratings.sort(\"average_rating\", ascending = True).show()"
   ]
  },
  {
   "cell_type": "code",
   "execution_count": 29,
   "id": "449b249d-9a21-4956-adb1-33621358e09f",
   "metadata": {},
   "outputs": [
    {
     "data": {
      "application/vnd.jupyter.widget-view+json": {
       "model_id": "",
       "version_major": 2,
       "version_minor": 0
      },
      "text/plain": [
       "FloatProgress(value=0.0, bar_style='info', description='Progress:', layout=Layout(height='25px', width='50%'),…"
      ]
     },
     "metadata": {},
     "output_type": "display_data"
    },
    {
     "name": "stdout",
     "output_type": "stream",
     "text": [
      "+----------------+--------------+------------+\n",
      "|filtered_User-ID|average_rating|rating_count|\n",
      "+----------------+--------------+------------+\n",
      "|          137437|          1.84|          50|\n",
      "|          154844|          5.86|          50|\n",
      "|          134784|          2.24|          50|\n",
      "|           91058|          4.86|          50|\n",
      "|          270828|          2.12|          50|\n",
      "|           51184|          6.02|          50|\n",
      "|           71981|           2.7|          50|\n",
      "|          190939|          1.46|          50|\n",
      "|          131482|          0.74|          50|\n",
      "|            5483|          0.16|          50|\n",
      "|           41701|          2.24|          50|\n",
      "|          123988|           4.2|          50|\n",
      "|          187598|          7.18|          50|\n",
      "|          119594|          3.84|          50|\n",
      "|          261685|          1.36|          50|\n",
      "|           97721|           3.5|          50|\n",
      "|            4785|          4.16|          50|\n",
      "|          231263|          4.18|          50|\n",
      "|            1025|           4.8|          50|\n",
      "|           18850|           2.4|          50|\n",
      "+----------------+--------------+------------+\n",
      "only showing top 20 rows"
     ]
    }
   ],
   "source": [
    "#Filter out users with rating_count > 5 and average_rating == 0\n",
    "#Ensures that we retain users who have provided some ratings but removes outliers who may have a large number of ratings with an average of 0, \n",
    "filtered_users = average_ratings.filter(~((average_ratings.rating_count > 5) & (average_ratings.average_rating == 0)))\n",
    "filtered_users = filtered_users.filter(\"rating_count <= 50\")\n",
    "filtered_users = filtered_users.withColumnRenamed(\"User-ID\", \"filtered_User-ID\")\n",
    "filtered_users.sort(\"rating_count\", ascending = False).show()"
   ]
  },
  {
   "cell_type": "code",
   "execution_count": 30,
   "id": "ae50c2ff-f0b6-4627-845a-34a6463b2461",
   "metadata": {},
   "outputs": [
    {
     "data": {
      "application/vnd.jupyter.widget-view+json": {
       "model_id": "",
       "version_major": 2,
       "version_minor": 0
      },
      "text/plain": [
       "FloatProgress(value=0.0, bar_style='info', description='Progress:', layout=Layout(height='25px', width='50%'),…"
      ]
     },
     "metadata": {},
     "output_type": "display_data"
    },
    {
     "name": "stdout",
     "output_type": "stream",
     "text": [
      "+-------+----------+-----------+--------------------+--------------------+-------------------+--------------------+--------------------+----+------------------+------------+\n",
      "|User-ID|      ISBN|Book-Rating|          Book-Title|         Book-Author|Year-Of-Publication|           Publisher|            Location| Age|    average_rating|rating_count|\n",
      "+-------+----------+-----------+--------------------+--------------------+-------------------+--------------------+--------------------+----+------------------+------------+\n",
      "| 184483|0312243022|          0| The Hours : A Novel|  Michael Cunningham|               2000|             Picador|pittsburgh, penns...|41.0|0.7435897435897436|          39|\n",
      "| 184483|0375709045|          0|She's Gone Countr...|        Kyle Spencer|               2002|   Vintage Books USA|pittsburgh, penns...|41.0|0.7435897435897436|          39|\n",
      "| 184483|0451167317|          0|       The Dark Half|        Stephen King|               1994|         Signet Book|pittsburgh, penns...|41.0|0.7435897435897436|          39|\n",
      "|  78440|0451205774|          0|Stranger in Parad...|       Eileen Goudge|               2002|         Signet Book| houston, texas, usa|52.0| 6.368421052631579|          19|\n",
      "|  15846|3426619784|          8|Speaking with the...|       Robert Harris|               2002|Droemersche Verla...|nürnberg, bayern,...|24.0|               4.0|           2|\n",
      "| 108806|8420429031|          9|La Sombra del Aguila|Arturo Perez-Reverte|               1996|             Aguilar|barcelona, catalu...|23.0|               9.0|           1|\n",
      "| 214084|0373230176|          7|Temporary Santa (...|Cathy Gillen Thacker|               2003|           Harlequin|    parma, ohio, usa|59.0|               5.0|           4|\n",
      "| 236323|0380712962|          8|   Death in Disguise|     Caroline Graham|               1994|Harper Mass Marke...|lakewood, new jer...|52.0|               3.2|           5|\n",
      "| 182760|051513628X|          8|Key of Light (Key...|        Nora Roberts|               2003|          Jove Books|staten island, ne...|40.0|               8.0|           1|\n",
      "|  14423|0763618292|          8|         Witch Child|          Celia Rees|               2002|Candlewick Press ...|  austin, texas, usa|28.0|             4.375|           8|\n",
      "| 165781|0441519253|          6|               Maori|    Alan Dean Foster|               1988|           Ace Books|port orchard, was...|66.0| 5.857142857142857|           7|\n",
      "| 277710|0446611638|          5|          Lost Light|    Michael Connelly|               2004|       Warner Vision|douglasville, geo...|56.0|              5.25|          12|\n",
      "| 149589|0553574973|          0|  The Depths of Time|Roger MacBride Allen|               2001|        Bantam Books|ribeirão preto, s...|29.0|2.5454545454545454|          11|\n",
      "| 149589|0691089132|          0|Stars and Planets...|         Ian Ridpath|               2001|Princeton Univers...|ribeirão preto, s...|29.0|2.5454545454545454|          11|\n",
      "| 152023|3596150655|          4|Generation Golf. ...|      Florian Illies|               2002|         Distribooks|berlin, berlin, g...|29.0|               4.0|           1|\n",
      "| 227671|0140293248|          7|The Girls' Guide ...|        Melissa Bank|               2000|       Penguin Books|toronto, ontario,...|50.0|               7.0|           1|\n",
      "| 197609|038073320X|          0| The Gazebo: A Novel|       Emily Grayson|               2000|                Avon|owensville, india...|33.0|1.2820512820512822|          39|\n",
      "| 129410|044651652X|          7|The Bridges of Ma...| Robert James Waller|               1992|        Warner Books|fort worth, texas...|29.0|               3.5|           8|\n",
      "| 171406|0689714718|          5|The HOUSE ON PARC...|Patricia A. McKillip|               1991|             Aladdin|stafford springs,...|24.0|               5.0|           1|\n",
      "| 129410|0819310174|         10|    The runaway road|        Stanley Mack|               1980|Parents Magazine ...|fort worth, texas...|29.0|               3.5|           8|\n",
      "+-------+----------+-----------+--------------------+--------------------+-------------------+--------------------+--------------------+----+------------------+------------+\n",
      "only showing top 20 rows"
     ]
    }
   ],
   "source": [
    "joined_data = abook.join(filtered_users, abook['User-ID'] == filtered_users['filtered_User-ID'], \"inner\")\n",
    "# Drop the duplicated User-ID column\n",
    "joined_data = joined_data.drop(\"filtered_User-ID\")\n",
    "joined_data.show()"
   ]
  },
  {
   "cell_type": "code",
   "execution_count": 31,
   "id": "e0410cd6-656f-4e3d-ad41-9f5e90c1ca31",
   "metadata": {},
   "outputs": [
    {
     "data": {
      "application/vnd.jupyter.widget-view+json": {
       "model_id": "",
       "version_major": 2,
       "version_minor": 0
      },
      "text/plain": [
       "FloatProgress(value=0.0, bar_style='info', description='Progress:', layout=Layout(height='25px', width='50%'),…"
      ]
     },
     "metadata": {},
     "output_type": "display_data"
    },
    {
     "name": "stdout",
     "output_type": "stream",
     "text": [
      "219597"
     ]
    }
   ],
   "source": [
    "joined_data.count()"
   ]
  },
  {
   "cell_type": "code",
   "execution_count": 32,
   "id": "7d3ea722-a7fe-473d-838c-9dcdd4b0a723",
   "metadata": {},
   "outputs": [
    {
     "data": {
      "application/vnd.jupyter.widget-view+json": {
       "model_id": "",
       "version_major": 2,
       "version_minor": 0
      },
      "text/plain": [
       "FloatProgress(value=0.0, bar_style='info', description='Progress:', layout=Layout(height='25px', width='50%'),…"
      ]
     },
     "metadata": {},
     "output_type": "display_data"
    },
    {
     "name": "stdout",
     "output_type": "stream",
     "text": [
      "+-------+\n",
      "|User-ID|\n",
      "+-------+\n",
      "| 184483|\n",
      "|  78440|\n",
      "|  15846|\n",
      "| 108806|\n",
      "| 214084|\n",
      "| 236323|\n",
      "| 182760|\n",
      "|  14423|\n",
      "| 165781|\n",
      "| 277710|\n",
      "| 149589|\n",
      "| 152023|\n",
      "| 227671|\n",
      "| 197609|\n",
      "| 129410|\n",
      "| 171406|\n",
      "| 223066|\n",
      "|  16999|\n",
      "| 117278|\n",
      "|  26490|\n",
      "+-------+\n",
      "only showing top 20 rows\n",
      "\n",
      "51145"
     ]
    }
   ],
   "source": [
    "users = joined_data.select(\"User-ID\").distinct()\n",
    "users.show()\n",
    "users.count()"
   ]
  },
  {
   "cell_type": "code",
   "execution_count": 33,
   "id": "6627c6ff-e686-46b8-acdb-17dbd8e4ed4d",
   "metadata": {},
   "outputs": [
    {
     "data": {
      "application/vnd.jupyter.widget-view+json": {
       "model_id": "",
       "version_major": 2,
       "version_minor": 0
      },
      "text/plain": [
       "FloatProgress(value=0.0, bar_style='info', description='Progress:', layout=Layout(height='25px', width='50%'),…"
      ]
     },
     "metadata": {},
     "output_type": "display_data"
    },
    {
     "name": "stdout",
     "output_type": "stream",
     "text": [
      "+-------------------+----------+\n",
      "|             Column|Null_Count|\n",
      "+-------------------+----------+\n",
      "|            User-ID|         0|\n",
      "|               ISBN|         0|\n",
      "|        Book-Rating|         0|\n",
      "|         Book-Title|         0|\n",
      "|        Book-Author|         0|\n",
      "|Year-Of-Publication|         0|\n",
      "|          Publisher|         0|\n",
      "|           Location|         0|\n",
      "|                Age|         0|\n",
      "|     average_rating|         0|\n",
      "|       rating_count|         0|\n",
      "+-------------------+----------+"
     ]
    }
   ],
   "source": [
    "from pyspark.sql.functions import col\n",
    "null_counts2 = [joined_data.filter(col(c).isNull()).count() for c in joined_data.columns]\n",
    "null_counts_abook = spark.createDataFrame(zip(joined_data.columns, null_counts2), ['Column', 'Null_Count'])\n",
    "null_counts_abook.show()"
   ]
  },
  {
   "cell_type": "code",
   "execution_count": 34,
   "id": "d5ede88b-a89d-43b0-85cf-8cbcbde22e8f",
   "metadata": {},
   "outputs": [
    {
     "data": {
      "application/vnd.jupyter.widget-view+json": {
       "model_id": "",
       "version_major": 2,
       "version_minor": 0
      },
      "text/plain": [
       "FloatProgress(value=0.0, bar_style='info', description='Progress:', layout=Layout(height='25px', width='50%'),…"
      ]
     },
     "metadata": {},
     "output_type": "display_data"
    },
    {
     "name": "stdout",
     "output_type": "stream",
     "text": [
      "+--------+-------------------------------------------------------------------------------+\n",
      "|AgeRange|Popular Authors                                                                |\n",
      "+--------+-------------------------------------------------------------------------------+\n",
      "|0-18    |[R. L. Stine, J. K. Rowling, Stephen King, Rich Shapero, Ann M. Martin]        |\n",
      "|19-29   |[Stephen King, Rich Shapero, John Grisham, Anne Rice, J. K. Rowling]           |\n",
      "|30-39   |[Stephen King, John Grisham, Nora Roberts, James Patterson, Dean R. Koontz]    |\n",
      "|40-49   |[Stephen King, John Grisham, Nora Roberts, James Patterson, Tom Clancy]        |\n",
      "|50-59   |[James Patterson, John Grisham, Nora Roberts, Stephen King, Tom Clancy]        |\n",
      "|60-69   |[Nora Roberts, James Patterson, John Grisham, Stephen King, Mary Higgins Clark]|\n",
      "|70+     |[John Grisham, Nora Roberts, James Patterson, Rich Shapero, Robert Ludlum]     |\n",
      "+--------+-------------------------------------------------------------------------------+"
     ]
    }
   ],
   "source": [
    "from pyspark.sql.window import Window\n",
    "from pyspark.sql.functions import row_number, when\n",
    "from pyspark.sql.functions import split, explode, col, count, collect_list, when\n",
    "\n",
    "# Define age ranges\n",
    "age_ranges = [(0, 18), (19, 29), (30, 39), (40, 49), (50, 59), (60, 69), (70, float('inf'))]  # Example age ranges\n",
    "\n",
    "# Create a when-otherwise statement to map age to its corresponding range\n",
    "age_range_column = when(\n",
    "    (col(\"Age\") >= 0) & (col(\"Age\") <= 18), \"0-18\"\n",
    ").when(\n",
    "    (col(\"Age\") >= 19) & (col(\"Age\") <= 29), \"19-29\"\n",
    ").when(\n",
    "    (col(\"Age\") >= 30) & (col(\"Age\") <= 39), \"30-39\"\n",
    ").when(\n",
    "    (col(\"Age\") >= 40) & (col(\"Age\") <= 49), \"40-49\"\n",
    ").when(\n",
    "    (col(\"Age\") >= 50) & (col(\"Age\") <= 59), \"50-59\"\n",
    ").when(\n",
    "    (col(\"Age\") >= 60) & (col(\"Age\") <= 69), \"60-69\"\n",
    ").otherwise(\"70+\").alias(\"AgeRange\")\n",
    "\n",
    "# Step 2: Split the Book-Author string to extract individual authors\n",
    "split_authors_data = joined_data.select(age_range_column, explode(split(\"Book-Author\", \",\")).alias(\"Author\"))\n",
    "\n",
    "# Step 3: Aggregate data based on user age range and author\n",
    "author_counts = split_authors_data.groupBy(\"AgeRange\", \"Author\").agg(count(\"*\").alias(\"count\"))\n",
    "\n",
    "# Step 4: Identify the most popular authors for each age range\n",
    "window_spec = Window.partitionBy(\"AgeRange\").orderBy(col(\"count\").desc())\n",
    "popular_authors = author_counts.withColumn(\"rank\", row_number().over(window_spec)) \\\n",
    "    .filter(col(\"rank\") <= 5) \\\n",
    "    .groupBy(\"AgeRange\").agg(collect_list(\"Author\").alias(\"Popular Authors\"))\n",
    "\n",
    "# Show the results\n",
    "popular_authors.sort(\"AgeRange\", ascending=True).show(truncate=False)\n"
   ]
  },
  {
   "cell_type": "markdown",
   "id": "2265da8a",
   "metadata": {},
   "source": [
    "## _Most popular authors and books for different age groups_"
   ]
  },
  {
   "cell_type": "code",
   "execution_count": 35,
   "id": "daa7b602-48f3-4a8e-b99e-d1088b1b3dfc",
   "metadata": {},
   "outputs": [
    {
     "data": {
      "application/vnd.jupyter.widget-view+json": {
       "model_id": "",
       "version_major": 2,
       "version_minor": 0
      },
      "text/plain": [
       "FloatProgress(value=0.0, bar_style='info', description='Progress:', layout=Layout(height='25px', width='50%'),…"
      ]
     },
     "metadata": {},
     "output_type": "display_data"
    },
    {
     "name": "stdout",
     "output_type": "stream",
     "text": [
      "+--------+------------------------------------------------------------------------------------------+\n",
      "|AgeRange|Popular Authors                                                                           |\n",
      "+--------+------------------------------------------------------------------------------------------+\n",
      "|0-18    |[Lars Saabye Christensen, Lindsay Caldwell, Mary Packard, Robyn Sisman, Hayao Miyazaki]   |\n",
      "|19-29   |[Aphra Behn, Deb Kastner, Juan Marse, Wordsworth, Julie Aigner-Clark]                     |\n",
      "|30-39   |[ Dr. Hessayon, Pang-Mei Natasha Chang, Robert Arthur, NATALIE GOLDBERG, Bernard Lenteric]|\n",
      "|40-49   |[Diane Baker Mason, Lisa Goldstein, Eve Bunting, Angelica Rose, Tom Topor]                |\n",
      "|50-59   |[Francine Mathews, Carrie Fisher, Kay R. Jamison, Seamus Heaney, Nancy Atherton]          |\n",
      "|60-69   |[Aaron Elkins, Mark Haddon, Phil Rickman, Rachel Naomi Remen, Steve Ettlinger]            |\n",
      "|70+     |[Janet Dailey, Arturo Perez-Reverte, Matthew Kneale, NORA ROBERTS, Katharine Graham]      |\n",
      "+--------+------------------------------------------------------------------------------------------+"
     ]
    }
   ],
   "source": [
    "from pyspark.sql.functions import split, explode, col, count, collect_list, when, avg, expr\n",
    "\n",
    "# Age ranges definition\n",
    "age_ranges = [(0, 18), (19, 29), (30, 39), (40, 49), (50, 59), (60, 69), (70, float('inf'))]  \n",
    "age_range_column = when(\n",
    "    (col(\"Age\") >= 0) & (col(\"Age\") <= 18), \"0-18\"\n",
    ").when(\n",
    "    (col(\"Age\") >= 19) & (col(\"Age\") <= 29), \"19-29\"\n",
    ").when(\n",
    "    (col(\"Age\") >= 30) & (col(\"Age\") <= 39), \"30-39\"\n",
    ").when(\n",
    "    (col(\"Age\") >= 40) & (col(\"Age\") <= 49), \"40-49\"\n",
    ").when(\n",
    "    (col(\"Age\") >= 50) & (col(\"Age\") <= 59), \"50-59\"\n",
    ").when(\n",
    "    (col(\"Age\") >= 60) & (col(\"Age\") <= 69), \"60-69\"\n",
    ").otherwise(\"70+\").alias(\"AgeRange\")\n",
    "\n",
    "# Split the Book-Author string to extract individual authors\n",
    "split_authors_data = joined_data.select(age_range_column, explode(split(\"Book-Author\", \",\")).alias(\"Author\"), \"Book-Rating\")\n",
    "\n",
    "# Aggregate data based on user age range and author, considering ratings\n",
    "author_rating_counts = split_authors_data.groupBy(\"AgeRange\", \"Author\").agg(count(\"*\").alias(\"Count\"), avg(\"Book-Rating\").alias(\"AverageRating\"))\n",
    "\n",
    "# Identify the most popular authors for each age range based on both count and average rating\n",
    "popular_authors = author_rating_counts.orderBy(col(\"Count\").desc(), col(\"AverageRating\").desc()) \\\n",
    "                    .groupBy(\"AgeRange\").agg(collect_list(\"Author\").alias(\"Popular Authors\"))\n",
    "\n",
    "# Show top 5 popular authors for each age range\n",
    "popular_authors = popular_authors.withColumn(\"Popular Authors\", expr(\"slice(`Popular Authors`, 1, 5)\"))\n",
    "\n",
    "popular_authors.sort(\"AgeRange\", ascending=True).show(truncate=False)\n"
   ]
  },
  {
   "cell_type": "code",
   "execution_count": 36,
   "id": "7e4c7997",
   "metadata": {},
   "outputs": [
    {
     "data": {
      "application/vnd.jupyter.widget-view+json": {
       "model_id": "",
       "version_major": 2,
       "version_minor": 0
      },
      "text/plain": [
       "FloatProgress(value=0.0, bar_style='info', description='Progress:', layout=Layout(height='25px', width='50%'),…"
      ]
     },
     "metadata": {},
     "output_type": "display_data"
    }
   ],
   "source": [
    "# Do the same steps as popular Authors, but change to be 'Book title'\n",
    "\n",
    "split_title_data = joined_data.select(age_range_column, col(\"Book-Title\").alias(\"Title\"))"
   ]
  },
  {
   "cell_type": "code",
   "execution_count": 37,
   "id": "15060b73",
   "metadata": {},
   "outputs": [
    {
     "data": {
      "application/vnd.jupyter.widget-view+json": {
       "model_id": "",
       "version_major": 2,
       "version_minor": 0
      },
      "text/plain": [
       "FloatProgress(value=0.0, bar_style='info', description='Progress:', layout=Layout(height='25px', width='50%'),…"
      ]
     },
     "metadata": {},
     "output_type": "display_data"
    },
    {
     "name": "stdout",
     "output_type": "stream",
     "text": [
      "+--------+--------------------------------------------------------------------------------------------------------------------------------------------------------------------------------------------+\n",
      "|AgeRange|Popular Books                                                                                                                                                                               |\n",
      "+--------+--------------------------------------------------------------------------------------------------------------------------------------------------------------------------------------------+\n",
      "|0-18    |[Wild Animus, And Then There Were None : A Novel, Harry Potter and the Sorcerer's Stone (Harry Potter (Paperback)), To Kill a Mockingbird, Harry Potter and the Chamber of Secrets (Book 2)]|\n",
      "|19-29   |[Wild Animus, The Lovely Bones: A Novel, Bridget Jones's Diary, The Da Vinci Code, Interview with the Vampire]                                                                              |\n",
      "|30-39   |[Wild Animus, The Lovely Bones: A Novel, The Da Vinci Code, Angels &amp; Demons, The Nanny Diaries: A Novel]                                                                                |\n",
      "|40-49   |[Wild Animus, The Lovely Bones: A Novel, The Da Vinci Code, The Secret Life of Bees, The Nanny Diaries: A Novel]                                                                            |\n",
      "|50-59   |[Wild Animus, The Da Vinci Code, The Lovely Bones: A Novel, The Secret Life of Bees, Angels &amp; Demons]                                                                                   |\n",
      "|60-69   |[Wild Animus, Angels &amp; Demons, The Da Vinci Code, The Summons, The King of Torts]                                                                                                       |\n",
      "|70+     |[Wild Animus, The Runaway Jury, The Testament, A Painted House, The Summons]                                                                                                                |\n",
      "+--------+--------------------------------------------------------------------------------------------------------------------------------------------------------------------------------------------+"
     ]
    }
   ],
   "source": [
    "title_counts = split_title_data.groupBy(\"AgeRange\", \"Title\").agg(count(\"*\").alias(\"count\"))\n",
    "\n",
    "window_spec = Window.partitionBy(\"AgeRange\").orderBy(col(\"count\").desc())\n",
    "popular_title = title_counts.withColumn(\"rank\", row_number().over(window_spec)) \\\n",
    "    .filter(col(\"rank\") <= 5) \\\n",
    "    .groupBy(\"AgeRange\").agg(collect_list(\"Title\").alias(\"Popular Books\"))\n",
    "\n",
    "popular_title.sort(\"AgeRange\", ascending=True).show(truncate=False)"
   ]
  },
  {
   "cell_type": "markdown",
   "id": "147441e7-8376-4587-a4d1-25f0ba6328e1",
   "metadata": {},
   "source": [
    "## **_ALS model: Top 5 recommendations for each user_**"
   ]
  },
  {
   "cell_type": "code",
   "execution_count": 38,
   "id": "354fd82f-b264-4f69-8e30-51e547df997d",
   "metadata": {},
   "outputs": [
    {
     "data": {
      "application/vnd.jupyter.widget-view+json": {
       "model_id": "",
       "version_major": 2,
       "version_minor": 0
      },
      "text/plain": [
       "FloatProgress(value=0.0, bar_style='info', description='Progress:', layout=Layout(height='25px', width='50%'),…"
      ]
     },
     "metadata": {},
     "output_type": "display_data"
    }
   ],
   "source": [
    "# Filter out rows with null values in the 'ISBN' column\n",
    "#abook_filtered = final_data_clean.filter(abook[\"ISBN\"].isNotNull())\n",
    "\n",
    "# Drop any remaining null values in other specified columns\n",
    "#abook_filtered = abook_filtered.na.drop(subset=[\"User-ID\", \"Book-Rating\"])"
   ]
  },
  {
   "cell_type": "code",
   "execution_count": 39,
   "id": "76d43a67-c674-4308-bc01-a48ebd6480c6",
   "metadata": {},
   "outputs": [
    {
     "data": {
      "application/vnd.jupyter.widget-view+json": {
       "model_id": "",
       "version_major": 2,
       "version_minor": 0
      },
      "text/plain": [
       "FloatProgress(value=0.0, bar_style='info', description='Progress:', layout=Layout(height='25px', width='50%'),…"
      ]
     },
     "metadata": {},
     "output_type": "display_data"
    },
    {
     "name": "stdout",
     "output_type": "stream",
     "text": [
      "+-------+----------+-----------+--------------------+------------------+-------------------+--------------------+--------------------+----+------------------+------------+----------+\n",
      "|User-ID|      ISBN|Book-Rating|          Book-Title|       Book-Author|Year-Of-Publication|           Publisher|            Location| Age|    average_rating|rating_count|ISBN_Index|\n",
      "+-------+----------+-----------+--------------------+------------------+-------------------+--------------------+--------------------+----+------------------+------------+----------+\n",
      "|  78440|0345285980|          9|      Crystal singer|    Anne McCaffrey|               1982|          Ballantine| houston, texas, usa|52.0| 6.368421052631579|          19|    4946.0|\n",
      "| 250301|0192833170|          7|Miss Julie and Ot...| August Strindberg|               1999|Oxford University...|new york, new yor...|21.0| 8.666666666666666|           9|   35754.0|\n",
      "|  12626|0330314971|          0|   Focaults Pendulum|       Umberto Eco|                  0|       Pan Books Ltd|oshkosh, wisconsi...|42.0|               2.5|           4|    4936.0|\n",
      "|  93633|048627053X|          0|Notes from the Un...|Fyodor Dostoyevsky|               1992|  Dover Publications|sewickley, pennsy...|27.0|               0.0|           1|    3648.0|\n",
      "| 191536|0671741187|          8|Where Are the Chi...|Mary Higgins Clark|               1992|              Pocket|calgary, alberta,...|17.0|               4.0|           2|    1173.0|\n",
      "| 250301|0679727299|          9|The Annotated Lolita|  Vladimir Nabokov|               1991|   Vintage Books USA|new york, new yor...|21.0| 8.666666666666666|           9|   23869.0|\n",
      "| 173538|0842342702|         10|Left Behind: A No...|        Tim Lahaye|               2000|Tyndale House Pub...|ipswich, england,...|27.0|              10.0|           1|     268.0|\n",
      "| 224413|0140262156|          7|  Death in the Andes|Mario Vargas Llosa|               1997|       Penguin Books|sacramento, calif...|49.0|               7.0|           1|   17028.0|\n",
      "|   1303|0312990456|          0|One for the Money...|   Janet Evanovich|               2003|St. Martin's Pape...| troy, michigan, usa|56.0|               0.0|           1|     466.0|\n",
      "| 275908|0316603287|          0|      The Lake House|   James Patterson|               2003|       Little, Brown|charing cross, ne...|44.0|              3.75|           4|     308.0|\n",
      "| 224110|0345428196|          6|            Outfoxed|    Rita Mae Brown|               2000|    Ballantine Books|norfolk, virginia...|45.0|               6.0|           1|    2991.0|\n",
      "| 149589|0451457994|         10|2001: A Space Ody...|  Arthur C. Clarke|               2000|                 Roc|ribeirão preto, s...|29.0|2.5454545454545454|          11|    6789.0|\n",
      "| 169728|048627053X|          0|Notes from the Un...|Fyodor Dostoyevsky|               1992|  Dover Publications|lisboa, n/a, port...|28.0|               0.0|           5|    3648.0|\n",
      "| 153466|0786913789|          7|Under Fallen Star...|          Mel Odom|               1999|Wizards of the Coast|melbourne, victor...|30.0|             5.125|           8|   67278.0|\n",
      "| 145527|2226133895|          7|Robert des noms p...| AmÃ?Â©lie Nothomb|               2002|        Albin Michel|aylmer, quebec, c...|52.0|               6.2|           5|    7515.0|\n",
      "| 197609|0061097497|          0|        Other Worlds|  Barbara Michaels|               2000|         HarperTorch|owensville, india...|33.0|1.2820512820512822|          39|    6027.0|\n",
      "| 170158|2266027255|         10|Le Cycle de Dune,...|     Frank Herbert|               1980|              Pocket|strasbourg, alsac...|23.0| 5.235294117647059|          17|   28034.0|\n",
      "| 170158|2290071331|          2|Les Hommes Vienne...|         John Gray|                  0|       Jai Lu French|strasbourg, alsac...|23.0| 5.235294117647059|          17|    5784.0|\n",
      "| 129617|3462024647|          8|Wenn du am Spielt...|Christoph Biermann|               1995|Kiepenheuer &amp;...|hamburg, hamburg,...|29.0| 4.833333333333333|           6|   88848.0|\n",
      "| 253670|8806135597|          8| Giardino Di Cemento|        Ian Mcewan|                  0|     Einaudi Italian|trento, trentino ...|25.0|               6.6|          10|    4742.0|\n",
      "+-------+----------+-----------+--------------------+------------------+-------------------+--------------------+--------------------+----+------------------+------------+----------+\n",
      "only showing top 20 rows"
     ]
    }
   ],
   "source": [
    "from pyspark.sql import SparkSession\n",
    "from pyspark.ml.feature import StringIndexer\n",
    "\n",
    "isbn_column = joined_data.select(\"ISBN\")\n",
    "indexer = StringIndexer(inputCol=\"ISBN\", outputCol=\"ISBN_Index\")\n",
    "indexer_model = indexer.fit(isbn_column)\n",
    "df_indexed = indexer_model.transform(joined_data)\n",
    "df_indexed.show()\n"
   ]
  },
  {
   "cell_type": "code",
   "execution_count": 40,
   "id": "1ab9ba45-be3c-4dc6-89e4-e38a461ccc52",
   "metadata": {},
   "outputs": [
    {
     "data": {
      "application/vnd.jupyter.widget-view+json": {
       "model_id": "",
       "version_major": 2,
       "version_minor": 0
      },
      "text/plain": [
       "FloatProgress(value=0.0, bar_style='info', description='Progress:', layout=Layout(height='25px', width='50%'),…"
      ]
     },
     "metadata": {},
     "output_type": "display_data"
    }
   ],
   "source": [
    "from pyspark.sql import SparkSession\n",
    "from pyspark.ml.feature import StringIndexer\n",
    "from pyspark.ml.recommendation import ALS\n",
    "from pyspark.ml.evaluation import RegressionEvaluator\n",
    "from pyspark.sql.functions import when, col\n",
    "\n",
    "(training, test) = df_indexed.randomSplit([0.8, 0.2])\n",
    "\n",
    "als = ALS(rank=10, maxIter=10, regParam=0.01, userCol=\"User-ID\", itemCol=\"ISBN_Index\", ratingCol=\"Book-Rating\",\n",
    "          coldStartStrategy=\"drop\",nonnegative=True,implicitPrefs=True)\n",
    "model = als.fit(training)\n",
    "####################\n"
   ]
  },
  {
   "cell_type": "code",
   "execution_count": 41,
   "id": "6ea4d140-2ee2-40b6-a1ab-577763f396cc",
   "metadata": {},
   "outputs": [
    {
     "data": {
      "application/vnd.jupyter.widget-view+json": {
       "model_id": "",
       "version_major": 2,
       "version_minor": 0
      },
      "text/plain": [
       "FloatProgress(value=0.0, bar_style='info', description='Progress:', layout=Layout(height='25px', width='50%'),…"
      ]
     },
     "metadata": {},
     "output_type": "display_data"
    },
    {
     "name": "stdout",
     "output_type": "stream",
     "text": [
      "+-------+----------+-----------+--------------------+--------------------+-------------------+--------------------+--------------------+----+-----------------+------------+----------+-------------+\n",
      "|User-ID|      ISBN|Book-Rating|          Book-Title|         Book-Author|Year-Of-Publication|           Publisher|            Location| Age|   average_rating|rating_count|ISBN_Index|   prediction|\n",
      "+-------+----------+-----------+--------------------+--------------------+-------------------+--------------------+--------------------+----+-----------------+------------+----------+-------------+\n",
      "|      2|0195153448|          0| Classical Mythology|  Mark P. O. Morford|               2002|Oxford University...|stockton, califor...|18.0|              0.0|           1|   35973.0|          0.0|\n",
      "|     36|067176537X|          0|The Therapeutic T...|     Dolores Krieger|               1979|            Fireside|montreal, quebec,...|24.0|              0.0|           1|   23614.0|          0.0|\n",
      "|     44|0425182908|          0|        Isle of Dogs|   Patricia Cornwell|               2002|Berkley Publishin...|black mountain, n...|51.0|              1.6|           5|     204.0|  3.629291E-4|\n",
      "|     44|0842342702|          0|Left Behind: A No...|          Tim Lahaye|               2000|Tyndale House Pub...|black mountain, n...|51.0|              1.6|           5|     268.0| 0.0010415837|\n",
      "|     75|0345465083|          0|          Seabiscuit|   LAURA HILLENBRAND|               2003|    Ballantine Books|long beach, calif...|37.0|             1.25|           4|     123.0|          0.0|\n",
      "|     75|0451625889|          0|          The Prince| Niccolo Machiavelli|               1952|         Signet Book|long beach, calif...|37.0|             1.25|           4|   52164.0|          0.0|\n",
      "|     92|8445071777|         10|El Senor De Los A...|    J. R. R. Tolkien|               2001|         Distribooks|castellar del val...|20.0|8.333333333333334|           3|    4730.0|  5.913451E-4|\n",
      "|     99|0316748641|          7|Pasquale's Nose: ...|        Michael Rips|               2002|      Back Bay Books|franktown, colora...|42.0|5.083333333333333|          12|   11307.0|  8.498203E-4|\n",
      "|     99|0385235941|          6|Prize Stories, 19...|    William Abrahams|               1987|     Doubleday Books|franktown, colora...|42.0|5.083333333333333|          12|   44789.0|  8.159159E-4|\n",
      "|     99|0671621009|         10|Creating Wealth :...|     Robert G. Allen|               1986|            Fireside|franktown, colora...|42.0|5.083333333333333|          12|   59426.0| 0.0012815254|\n",
      "|    114|0671027360|         10| Angels &amp; Demons|           Dan Brown|               2001|         Pocket Star|ligonier, pennsyl...|57.0|            8.125|           8|       3.0| 0.0018069431|\n",
      "|    114|0812575954|          5|            The Deal|          Joe Hutsko|               2000|      Tor Books (Mm)|ligonier, pennsyl...|57.0|            8.125|           8|   14484.0|  0.016431728|\n",
      "|    139|0743249992|          0|Bringing Down the...|         Ben Mezrich|               2003|          Free Press|baltimore, maryla...|35.0|              0.0|           3|    3800.0|          0.0|\n",
      "|    160|9724119378|          0|O Deus Das Pequen...|                 Roy|               1998|         Edicoes Asa|almada, n/a, port...|20.0|              0.0|           1|    4750.0|          0.0|\n",
      "|    165|0060929790|          0|One Hundred Years...|Gabriel Garcia Ma...|               1998|           Perennial|olympia, washingt...|62.0|              3.6|           5|     441.0| 0.0056482716|\n",
      "|    165|0061099325|          4|Coyote Waits (Joe...|      Tony Hillerman|               1992|         HarperTorch|olympia, washingt...|62.0|              3.6|           5|    1318.0|  0.007027092|\n",
      "|    183|8433920081|          0| El Almuerzo Desnudo|William S. Burroughs|               1995|            Anagrama|porto, porto, por...|27.0|            5.125|           8|   29603.0|          0.0|\n",
      "|    183|8440630794|          7|Cuentos del Plane...|    Arthur C. Clarke|               1993|         Ediciones B|porto, porto, por...|27.0|            5.125|           8|   10378.0|7.4329805E-18|\n",
      "|    204|0451452755|          0| The Catswold Portal|Shirley Rousseau ...|               1993|                 Roc| turner, oregon, usa|15.0|              0.0|           2|    8964.0|          0.0|\n",
      "|    228|039575514X|          9|          My Antonia|        Willa Cather|               1995|       Mariner Books|ann arbor, michig...|41.0|              8.0|           2|    3551.0| 2.4487954E-4|\n",
      "+-------+----------+-----------+--------------------+--------------------+-------------------+--------------------+--------------------+----+-----------------+------------+----------+-------------+\n",
      "only showing top 20 rows"
     ]
    }
   ],
   "source": [
    "predictions = model.transform(test)\n",
    "predictions.sort(\"User-ID\", ascending = True).show()"
   ]
  },
  {
   "cell_type": "code",
   "execution_count": 42,
   "id": "11219871-ace7-47c6-b4f6-2724522f28e9",
   "metadata": {},
   "outputs": [
    {
     "data": {
      "application/vnd.jupyter.widget-view+json": {
       "model_id": "",
       "version_major": 2,
       "version_minor": 0
      },
      "text/plain": [
       "FloatProgress(value=0.0, bar_style='info', description='Progress:', layout=Layout(height='25px', width='50%'),…"
      ]
     },
     "metadata": {},
     "output_type": "display_data"
    },
    {
     "name": "stdout",
     "output_type": "stream",
     "text": [
      "Root Mean Squared Error (RMSE) = 5.715631039690308"
     ]
    }
   ],
   "source": [
    "evaluator = RegressionEvaluator(metricName=\"rmse\", labelCol=\"Book-Rating\", predictionCol=\"prediction\")\n",
    "rmse = evaluator.evaluate(predictions)\n",
    "print(\"Root Mean Squared Error (RMSE) = \" + str(rmse))"
   ]
  },
  {
   "cell_type": "code",
   "execution_count": 43,
   "id": "b69cfb05",
   "metadata": {},
   "outputs": [
    {
     "data": {
      "application/vnd.jupyter.widget-view+json": {
       "model_id": "",
       "version_major": 2,
       "version_minor": 0
      },
      "text/plain": [
       "FloatProgress(value=0.0, bar_style='info', description='Progress:', layout=Layout(height='25px', width='50%'),…"
      ]
     },
     "metadata": {},
     "output_type": "display_data"
    },
    {
     "name": "stdout",
     "output_type": "stream",
     "text": [
      "Best Model Parameters:\n",
      "Rank: 15\n",
      "Max Iterations: 20\n",
      "Regularization Parameter: 0.01"
     ]
    }
   ],
   "source": [
    "from pyspark.ml.tuning import ParamGridBuilder, CrossValidator\n",
    "from pyspark.ml.evaluation import RegressionEvaluator\n",
    "from pyspark.ml.recommendation import ALS\n",
    "\n",
    "als = ALS(userCol=\"User-ID\", itemCol=\"ISBN_Index\", ratingCol=\"Book-Rating\", coldStartStrategy=\"drop\",implicitPrefs=True)\n",
    "\n",
    "# Define the parameter grid\n",
    "param_grid = ParamGridBuilder() \\\n",
    "    .addGrid(als.rank, [10, 15]) \\\n",
    "    .addGrid(als.maxIter, [10, 20]) \\\n",
    "    .addGrid(als.regParam, [0.01, 0.2]) \\\n",
    "    .build()\n",
    "\n",
    "evaluator = RegressionEvaluator(metricName=\"rmse\", labelCol=\"Book-Rating\", predictionCol=\"prediction\")\n",
    "cross_validator = CrossValidator(estimator=als,\n",
    "                                 estimatorParamMaps=param_grid,\n",
    "                                 evaluator=evaluator,\n",
    "                                 numFolds=5)\n",
    "cv_model = cross_validator.fit(df_indexed)\n",
    "best_model = cv_model.bestModel\n",
    "\n",
    "print(\"Best Model Parameters:\")\n",
    "print(\"Rank:\", best_model.rank)\n",
    "print(\"Max Iterations:\", best_model._java_obj.parent().getMaxIter())\n",
    "print(\"Regularization Parameter:\", best_model._java_obj.parent().getRegParam())"
   ]
  },
  {
   "cell_type": "code",
   "execution_count": 44,
   "id": "c641ad9c",
   "metadata": {},
   "outputs": [
    {
     "data": {
      "application/vnd.jupyter.widget-view+json": {
       "model_id": "",
       "version_major": 2,
       "version_minor": 0
      },
      "text/plain": [
       "FloatProgress(value=0.0, bar_style='info', description='Progress:', layout=Layout(height='25px', width='50%'),…"
      ]
     },
     "metadata": {},
     "output_type": "display_data"
    },
    {
     "name": "stdout",
     "output_type": "stream",
     "text": [
      "Root Mean Squared Error (RMSE) = 5.714561412390321"
     ]
    }
   ],
   "source": [
    "als = ALS(rank=15, maxIter=20, regParam=0.2, userCol=\"User-ID\", itemCol=\"ISBN_Index\", ratingCol=\"Book-Rating\",\n",
    "          coldStartStrategy=\"drop\",nonnegative=True,implicitPrefs=True)\n",
    "model = als.fit(training)\n",
    "predictions = model.transform(test)\n",
    "evaluator = RegressionEvaluator(metricName=\"rmse\", labelCol=\"Book-Rating\", predictionCol=\"prediction\")\n",
    "rmse = evaluator.evaluate(predictions)\n",
    "print(\"Root Mean Squared Error (RMSE) = \" + str(rmse))"
   ]
  },
  {
   "cell_type": "code",
   "execution_count": 45,
   "id": "18c3a31e-1a9d-44f0-aa61-c4deede33f27",
   "metadata": {},
   "outputs": [
    {
     "data": {
      "application/vnd.jupyter.widget-view+json": {
       "model_id": "",
       "version_major": 2,
       "version_minor": 0
      },
      "text/plain": [
       "FloatProgress(value=0.0, bar_style='info', description='Progress:', layout=Layout(height='25px', width='50%'),…"
      ]
     },
     "metadata": {},
     "output_type": "display_data"
    },
    {
     "name": "stdout",
     "output_type": "stream",
     "text": [
      "+-------+------------------------------------------------------------------------------------------------------+\n",
      "|User-ID|recommendations                                                                                       |\n",
      "+-------+------------------------------------------------------------------------------------------------------+\n",
      "|133    |[{1, 0.04258638}, {2, 0.0390005}, {11, 0.030625638}, {47, 0.02584606}, {18, 0.02559783}]              |\n",
      "|406    |[{44905, 0.0}, {44895, 0.0}, {44865, 0.0}, {44855, 0.0}, {44854, 0.0}]                                |\n",
      "|444    |[{44905, 0.0}, {44895, 0.0}, {44865, 0.0}, {44855, 0.0}, {44854, 0.0}]                                |\n",
      "|496    |[{21, 0.30984187}, {71, 0.2480533}, {79, 0.23126993}, {73, 0.20138165}, {102, 0.19699991}]            |\n",
      "|685    |[{44905, 0.0}, {44895, 0.0}, {44865, 0.0}, {44855, 0.0}, {44854, 0.0}]                                |\n",
      "|744    |[{44905, 0.0}, {44895, 0.0}, {44865, 0.0}, {44855, 0.0}, {44854, 0.0}]                                |\n",
      "|811    |[{44905, 0.0}, {44895, 0.0}, {44865, 0.0}, {44855, 0.0}, {44854, 0.0}]                                |\n",
      "|914    |[{0, 3.1524987E-14}, {9, 2.3024012E-14}, {28, 1.8142484E-14}, {34, 1.7398758E-14}, {90, 1.595853E-14}]|\n",
      "|924    |[{44905, 0.0}, {44895, 0.0}, {44865, 0.0}, {44855, 0.0}, {44854, 0.0}]                                |\n",
      "|1303   |[{44905, 0.0}, {44895, 0.0}, {44865, 0.0}, {44855, 0.0}, {44854, 0.0}]                                |\n",
      "|1331   |[{44905, 0.0}, {44895, 0.0}, {44865, 0.0}, {44855, 0.0}, {44854, 0.0}]                                |\n",
      "|1582   |[{44905, 0.0}, {44895, 0.0}, {44865, 0.0}, {44855, 0.0}, {44854, 0.0}]                                |\n",
      "|1591   |[{88, 0.111791}, {31, 0.10739914}, {80, 0.09916717}, {84, 0.094014}, {215, 0.08323867}]               |\n",
      "|2238   |[{44905, 0.0}, {44895, 0.0}, {44865, 0.0}, {44855, 0.0}, {44854, 0.0}]                                |\n",
      "|2288   |[{11, 0.755218}, {18, 0.63554275}, {23, 0.625102}, {199, 0.49965394}, {56, 0.49910522}]               |\n",
      "|2595   |[{44905, 0.0}, {44895, 0.0}, {44865, 0.0}, {44855, 0.0}, {44854, 0.0}]                                |\n",
      "|2678   |[{44905, 0.0}, {44895, 0.0}, {44865, 0.0}, {44855, 0.0}, {44854, 0.0}]                                |\n",
      "|2771   |[{44905, 0.0}, {44895, 0.0}, {44865, 0.0}, {44855, 0.0}, {44854, 0.0}]                                |\n",
      "|2789   |[{1, 0.025190642}, {2, 0.023089169}, {29, 0.02007185}, {32, 0.019706422}, {25, 0.0196061}]            |\n",
      "|2882   |[{44905, 0.0}, {44895, 0.0}, {44865, 0.0}, {44855, 0.0}, {44854, 0.0}]                                |\n",
      "+-------+------------------------------------------------------------------------------------------------------+\n",
      "only showing top 20 rows\n",
      "\n",
      "45432"
     ]
    }
   ],
   "source": [
    "# top 5 books recommendations for each user\n",
    "user_recs = model.recommendForAllUsers(5)\n",
    "user_recs.show(truncate=False)\n",
    "user_recs.count()"
   ]
  },
  {
   "cell_type": "code",
   "execution_count": 46,
   "id": "5fbb9e99-ae85-41a0-9206-973bbbe035f9",
   "metadata": {},
   "outputs": [
    {
     "data": {
      "application/vnd.jupyter.widget-view+json": {
       "model_id": "",
       "version_major": 2,
       "version_minor": 0
      },
      "text/plain": [
       "FloatProgress(value=0.0, bar_style='info', description='Progress:', layout=Layout(height='25px', width='50%'),…"
      ]
     },
     "metadata": {},
     "output_type": "display_data"
    },
    {
     "name": "stdout",
     "output_type": "stream",
     "text": [
      "User 512's Recommendations:\n",
      "+-------+-----------------------------------------------------------------------------------------------+\n",
      "|User-ID|recommendations                                                                                |\n",
      "+-------+-----------------------------------------------------------------------------------------------+\n",
      "|512    |[{21, 0.029961674}, {71, 0.024139864}, {79, 0.02251021}, {73, 0.019866863}, {102, 0.019422736}]|\n",
      "+-------+-----------------------------------------------------------------------------------------------+"
     ]
    }
   ],
   "source": [
    "# Look at the books recommended to user 512\n",
    "print(\"User 444's Recommendations:\")\n",
    "user_no = user_recs.filter(col(\"User-ID\") == 512)\n",
    "user_no.show(truncate=False)\n"
   ]
  },
  {
   "cell_type": "code",
   "execution_count": 47,
   "id": "6dcbeb59-2a1e-41cc-89c0-31d032b0b058",
   "metadata": {},
   "outputs": [
    {
     "data": {
      "application/vnd.jupyter.widget-view+json": {
       "model_id": "",
       "version_major": 2,
       "version_minor": 0
      },
      "text/plain": [
       "FloatProgress(value=0.0, bar_style='info', description='Progress:', layout=Layout(height='25px', width='50%'),…"
      ]
     },
     "metadata": {},
     "output_type": "display_data"
    },
    {
     "name": "stdout",
     "output_type": "stream",
     "text": [
      "+-------+----------+-----------+--------------------+--------------------+-------------------+--------------------+--------------------+----+------------------+------------+----------+\n",
      "|User-ID|      ISBN|Book-Rating|          Book-Title|         Book-Author|Year-Of-Publication|           Publisher|            Location| Age|    average_rating|rating_count|ISBN_Index|\n",
      "+-------+----------+-----------+--------------------+--------------------+-------------------+--------------------+--------------------+----+------------------+------------+----------+\n",
      "|   5037|0440226430|          6|      Summer Sisters|          Judy Blume|               1999|Dell Publishing C...|dodge center, min...|26.0| 4.791666666666667|          24|      29.0|\n",
      "| 275306|0446310786|         10|To Kill a Mocking...|          Harper Lee|               1988|Little Brown &amp...|   tyler, texas, usa|24.0| 2.608695652173913|          46|      47.0|\n",
      "| 197424|067102423X|          5|        Bag of Bones|        Stephen King|               1999|              Pocket|   warren, ohio, usa|42.0| 7.133333333333334|          15|     107.0|\n",
      "| 196149|0312924585|          9|Silence of the Lambs|       Thomas Harris|               1991|  St. Martin's Press|lisburn, northern...|29.0| 4.222222222222222|          18|     155.0|\n",
      "| 211158|0446611212|          8|    Violets Are Blue|     James Patterson|               2002|       Warner Vision|chula vista, cali...|58.0|               4.8|           5|     180.0|\n",
      "| 184483|038572179X|          0| Atonement : A Novel|          IAN MCEWAN|               2003|              Anchor|pittsburgh, penns...|41.0|0.7435897435897436|          39|     201.0|\n",
      "| 145527|0671708635|          5|Seven Habits Of H...|    Stephen R. Covey|               1990|          Free Press|aylmer, quebec, c...|52.0|               6.2|           5|     329.0|\n",
      "|  96490|0316666009|          7| 1st to Die: A Novel|     James Patterson|               2001|Little Brown and ...|marietta, georgia...|36.0| 7.333333333333333|           3|     348.0|\n",
      "|  42352|0425180964|          6|The Bear and the ...|          Tom Clancy|               2001|Berkley Publishin...|baltimore, maryla...|41.0| 4.214285714285714|          14|     353.0|\n",
      "|   2595|0425169863|          0|     Point of Origin|Patricia Daniels ...|               1999|Berkley Publishin...|wiesbaden, hessen...|34.0|               0.0|           1|     387.0|\n",
      "| 101971|0425192725|          0|     Q Is for Quarry|         Sue Grafton|               2003|Berkley Publishin...|kingston, ontario...|43.0|1.6666666666666667|          15|     389.0|\n",
      "|  50216|002542730X|         10|Politically Corre...|   James Finn Garner|               1994|John Wiley &amp; ...|wellton, arizona,...|71.0|              10.0|           2|     403.0|\n",
      "|  96954|0440204887|          6|Illusions: The Ad...|        Richard Bach|               1994|Dell Publishing C...|  salem, oregon, usa|45.0| 4.241379310344827|          29|     412.0|\n",
      "| 230490|1592400876|          8|Eats, Shoots &amp...|         Lynne Truss|               2004|        Gotham Books|binghamton, new y...|31.0| 2.769230769230769|          13|     438.0|\n",
      "| 192042|3404148665|          0|         Illuminati.|           Dan Brown|               2003|            LÃ?Â¼bbe|aachen, nordrhein...|32.0| 4.111111111111111|           9|     439.0|\n",
      "|  39992|0349101779|          7|    The Wasp Factory|          Iain Banks|                  0|              Abacus|glos, england, un...|51.0|               7.0|           1|     445.0|\n",
      "|  36562|0425191184|          7|          Red Rabbit|          Tom Clancy|               2003|Berkley Publishin...|las cruces, new m...|23.0| 5.571428571428571|           7|     449.0|\n",
      "| 211158|0316693286|          0| Pop Goes the Weasel|     James Patterson|               1999|       Replica Books|chula vista, cali...|58.0|               4.8|           5|     469.0|\n",
      "| 101887|0373218192|         10|  Engaging The Enemy|        Nora Roberts|               2003|          Silhouette|gainesville, flor...|31.0| 6.583333333333333|          12|     486.0|\n",
      "| 138586|0802139256|          0|  Peace Like a River|          Leif Enger|               2002|         Grove Press|albuquerque, new ...|42.0| 2.272727272727273|          11|     533.0|\n",
      "+-------+----------+-----------+--------------------+--------------------+-------------------+--------------------+--------------------+----+------------------+------------+----------+\n",
      "only showing top 20 rows"
     ]
    }
   ],
   "source": [
    "extract_title = df_indexed.dropDuplicates([\"ISBN_Index\"])\n",
    "extract_title.show()\n"
   ]
  },
  {
   "cell_type": "code",
   "execution_count": 48,
   "id": "ca439389-0967-421f-bf8d-f91ab61154df",
   "metadata": {},
   "outputs": [
    {
     "data": {
      "application/vnd.jupyter.widget-view+json": {
       "model_id": "",
       "version_major": 2,
       "version_minor": 0
      },
      "text/plain": [
       "FloatProgress(value=0.0, bar_style='info', description='Progress:', layout=Layout(height='25px', width='50%'),…"
      ]
     },
     "metadata": {},
     "output_type": "display_data"
    },
    {
     "name": "stdout",
     "output_type": "stream",
     "text": [
      "+------------------------------+-------+----------+\n",
      "|Book-Title                    |User-ID|ISBN_Index|\n",
      "+------------------------------+-------+----------+\n",
      "|Snow Falling on Cedars        |100815 |21.0      |\n",
      "|Fahrenheit 451                |82122  |71.0      |\n",
      "|The Beach House               |87960  |79.0      |\n",
      "|Fall On Your Knees (Oprah #45)|109084 |102.0     |\n",
      "|Mystic River                  |84900  |73.0      |\n",
      "+------------------------------+-------+----------+"
     ]
    }
   ],
   "source": [
    "from pyspark.sql.functions import col, explode\n",
    "\n",
    "# Explode the recommendations column to get each recommendation as a separate row\n",
    "exploded_recs = user_recs.select(\"User-ID\", explode(\"recommendations\").alias(\"rec\"))\n",
    "\n",
    "# Extract ISBN indices and ratings from the exploded DataFrame\n",
    "top_5_indices_and_ratings = exploded_recs.filter(col(\"User-ID\") == 512) \\\n",
    "                                        .select(col(\"rec.ISBN_Index\"), col(\"rec.rating\")) \\\n",
    "                                        .orderBy(col(\"rec.rating\").desc()) \\\n",
    "                                        .limit(5)\n",
    "\n",
    "# Join with book_titles DataFrame to get book titles\n",
    "user_top_5_titles = top_5_indices_and_ratings.join(extract_title, top_5_indices_and_ratings.ISBN_Index == df_indexed.ISBN_Index, how='inner') \\\n",
    "                                              .select(\"Book-Title\",'User-ID',df_indexed['ISBN_Index'])\n",
    "\n",
    "# Show top 5 recommended book titles for User-ID 512\n",
    "user_top_5_titles.show(truncate=False)\n"
   ]
  },
  {
   "cell_type": "code",
   "execution_count": 49,
   "id": "19311488-ded5-4693-92e2-64f52edf80f3",
   "metadata": {},
   "outputs": [
    {
     "data": {
      "application/vnd.jupyter.widget-view+json": {
       "model_id": "",
       "version_major": 2,
       "version_minor": 0
      },
      "text/plain": [
       "FloatProgress(value=0.0, bar_style='info', description='Progress:', layout=Layout(height='25px', width='50%'),…"
      ]
     },
     "metadata": {},
     "output_type": "display_data"
    },
    {
     "name": "stdout",
     "output_type": "stream",
     "text": [
      "User 512's Recommendations:\n",
      "+-------+-----------------------------------------------------------------------------------------------+\n",
      "|User-ID|recommendations                                                                                |\n",
      "+-------+-----------------------------------------------------------------------------------------------+\n",
      "|512    |[{21, 0.029961674}, {71, 0.024139864}, {79, 0.02251021}, {73, 0.019866863}, {102, 0.019422736}]|\n",
      "+-------+-----------------------------------------------------------------------------------------------+\n",
      "\n",
      "User 512's Recommendations with Ratings:\n",
      "+------------------------------+---------------------+\n",
      "|Book-Title                    |Recommendation Rating|\n",
      "+------------------------------+---------------------+\n",
      "|Snow Falling on Cedars        |0.029961674          |\n",
      "|The Beach House               |0.02251021           |\n",
      "|Fahrenheit 451                |0.024139864          |\n",
      "|Fall On Your Knees (Oprah #45)|0.019422736          |\n",
      "|Mystic River                  |0.019866863          |\n",
      "+------------------------------+---------------------+"
     ]
    }
   ],
   "source": [
    "from pyspark.sql.functions import col\n",
    "\n",
    "# Look at the books recommended to user 85\n",
    "print(\"User 512's Recommendations:\")\n",
    "user_no = user_recs.filter(col(\"User-ID\") == 512)\n",
    "user_no.show(truncate=False)\n",
    "\n",
    "# Extract recommendation ratings for User \n",
    "ratings_for_user_85 = exploded_recs.filter(col(\"User-ID\") == 512) \\\n",
    "                                   .select(\"rec.ISBN_Index\", \"rec.rating\")\n",
    "\n",
    "# Join with book_titles DataFrame to get book titles\n",
    "user_85_recommendations_with_ratings = ratings_for_user_85.join(extract_title, ratings_for_user_85[\"ISBN_Index\"] == df_indexed[\"ISBN_Index\"], how='inner') \\\n",
    "                                                          .select(\"Book-Title\", ratings_for_user_85[\"rating\"].alias(\"Recommendation Rating\"))\n",
    "\n",
    "print(\"User 512's Recommendations with Ratings:\")\n",
    "user_85_recommendations_with_ratings.show(truncate=False)\n",
    "\n"
   ]
  },
  {
   "cell_type": "code",
   "execution_count": 50,
   "id": "1169cbce-8084-450d-bdf9-c178dae3a762",
   "metadata": {},
   "outputs": [
    {
     "data": {
      "application/vnd.jupyter.widget-view+json": {
       "model_id": "",
       "version_major": 2,
       "version_minor": 0
      },
      "text/plain": [
       "FloatProgress(value=0.0, bar_style='info', description='Progress:', layout=Layout(height='25px', width='50%'),…"
      ]
     },
     "metadata": {},
     "output_type": "display_data"
    },
    {
     "name": "stdout",
     "output_type": "stream",
     "text": [
      "+----------+-----------+\n",
      "|ISBN_Index|     rating|\n",
      "+----------+-----------+\n",
      "|        21|0.029961674|\n",
      "|        71|0.024139864|\n",
      "|        79| 0.02251021|\n",
      "|        73|0.019866863|\n",
      "|       102|0.019422736|\n",
      "+----------+-----------+"
     ]
    }
   ],
   "source": [
    "top_5_indices_and_ratings.show()"
   ]
  },
  {
   "cell_type": "code",
   "execution_count": 51,
   "id": "9228b31c-a60d-4468-a0a7-d4a237d57b2e",
   "metadata": {},
   "outputs": [
    {
     "data": {
      "application/vnd.jupyter.widget-view+json": {
       "model_id": "",
       "version_major": 2,
       "version_minor": 0
      },
      "text/plain": [
       "FloatProgress(value=0.0, bar_style='info', description='Progress:', layout=Layout(height='25px', width='50%'),…"
      ]
     },
     "metadata": {},
     "output_type": "display_data"
    },
    {
     "name": "stdout",
     "output_type": "stream",
     "text": [
      "+-------+\n",
      "|User-ID|\n",
      "+-------+\n",
      "|      2|\n",
      "|     10|\n",
      "|     19|\n",
      "|     20|\n",
      "|     36|\n",
      "|     42|\n",
      "|     44|\n",
      "|     51|\n",
      "|     56|\n",
      "|     64|\n",
      "|     67|\n",
      "|     70|\n",
      "|     75|\n",
      "|     78|\n",
      "|     79|\n",
      "|     85|\n",
      "|     92|\n",
      "|     99|\n",
      "|    109|\n",
      "|    114|\n",
      "+-------+\n",
      "only showing top 20 rows\n",
      "\n",
      "51145"
     ]
    }
   ],
   "source": [
    "################################################################\n",
    "users_check = df_indexed.select(\"User-ID\").distinct()\n",
    "users_check.sort(\"User-ID\", ascending = True).show()\n",
    "users_check.count()"
   ]
  },
  {
   "cell_type": "code",
   "execution_count": 52,
   "id": "aeacc979-24cb-454a-b5b2-ee41fd27748f",
   "metadata": {},
   "outputs": [
    {
     "data": {
      "application/vnd.jupyter.widget-view+json": {
       "model_id": "",
       "version_major": 2,
       "version_minor": 0
      },
      "text/plain": [
       "FloatProgress(value=0.0, bar_style='info', description='Progress:', layout=Layout(height='25px', width='50%'),…"
      ]
     },
     "metadata": {},
     "output_type": "display_data"
    },
    {
     "name": "stdout",
     "output_type": "stream",
     "text": [
      "+-------+\n",
      "|User-ID|\n",
      "+-------+\n",
      "| 275481|\n",
      "| 184483|\n",
      "|    496|\n",
      "|  22097|\n",
      "|  19206|\n",
      "|  26801|\n",
      "| 250301|\n",
      "| 191536|\n",
      "| 101971|\n",
      "|  73436|\n",
      "+-------+\n",
      "\n",
      "+-------+------------------------------------------------------------------------------------------------+\n",
      "|User-ID|recommendations                                                                                 |\n",
      "+-------+------------------------------------------------------------------------------------------------+\n",
      "|275481 |[{14, 0.035990104}, {22, 0.034616664}, {26, 0.03401068}, {32, 0.032490447}, {25, 0.03142964}]   |\n",
      "|26801  |[{31, 0.12127166}, {88, 0.12112089}, {80, 0.10558838}, {215, 0.10220046}, {84, 0.101102754}]    |\n",
      "|101971 |[{11, 0.04695988}, {18, 0.040131275}, {23, 0.03898678}, {199, 0.031032933}, {56, 0.030989358}]  |\n",
      "|250301 |[{22, 0.3399341}, {59, 0.27037272}, {118, 0.26079166}, {92, 0.24471638}, {105, 0.22854473}]     |\n",
      "|184483 |[{8, 0.5169407}, {3, 0.5065312}, {5, 0.48664728}, {6, 0.48600617}, {13, 0.43421867}]            |\n",
      "|22097  |[{44905, 0.0}, {44895, 0.0}, {44865, 0.0}, {44855, 0.0}, {44854, 0.0}]                          |\n",
      "|496    |[{21, 0.30984187}, {71, 0.2480533}, {79, 0.23126993}, {73, 0.20138165}, {102, 0.19699991}]      |\n",
      "|19206  |[{1, 0.7163508}, {2, 0.6560323}, {47, 0.43476382}, {65, 0.31329662}, {57, 0.30527782}]          |\n",
      "|191536 |[{5, 0.049428303}, {30, 0.041594658}, {15, 0.040173203}, {42, 0.034040518}, {37, 0.033678297}]  |\n",
      "|73436  |[{29, 0.016473057}, {52, 0.013345278}, {209, 0.01320234}, {115, 0.012713742}, {74, 0.012359404}]|\n",
      "+-------+------------------------------------------------------------------------------------------------+"
     ]
    }
   ],
   "source": [
    "# generate top 5 books recommendations for a specified set of users\n",
    "users =  df_indexed.select(als.getUserCol()).distinct().limit(10)\n",
    "users.show()\n",
    "user_subset_recs = model.recommendForUserSubset(users, 5)\n",
    "user_subset_recs.show(truncate=False)"
   ]
  },
  {
   "cell_type": "code",
   "execution_count": 53,
   "id": "784f8099-cfe6-4a94-a8d5-3fc6c7387c80",
   "metadata": {},
   "outputs": [
    {
     "data": {
      "application/vnd.jupyter.widget-view+json": {
       "model_id": "",
       "version_major": 2,
       "version_minor": 0
      },
      "text/plain": [
       "FloatProgress(value=0.0, bar_style='info', description='Progress:', layout=Layout(height='25px', width='50%'),…"
      ]
     },
     "metadata": {},
     "output_type": "display_data"
    },
    {
     "name": "stdout",
     "output_type": "stream",
     "text": [
      "[Row(User-ID=113630, recommendations=[Row(ISBN_Index=7, rating=0.4491007924079895), Row(ISBN_Index=36, rating=0.3713008165359497), Row(ISBN_Index=99, rating=0.37008288502693176), Row(ISBN_Index=66, rating=0.31736451387405396), Row(ISBN_Index=146, rating=0.26530057191848755)])]"
     ]
    }
   ],
   "source": [
    "user_subset_recs.take(1)"
   ]
  },
  {
   "cell_type": "code",
   "execution_count": 54,
   "id": "ce579a8e-5c26-4758-9e46-fff391ded5cf",
   "metadata": {},
   "outputs": [
    {
     "data": {
      "application/vnd.jupyter.widget-view+json": {
       "model_id": "",
       "version_major": 2,
       "version_minor": 0
      },
      "text/plain": [
       "FloatProgress(value=0.0, bar_style='info', description='Progress:', layout=Layout(height='25px', width='50%'),…"
      ]
     },
     "metadata": {},
     "output_type": "display_data"
    },
    {
     "name": "stdout",
     "output_type": "stream",
     "text": [
      "+-------+----------------+\n",
      "|User-ID|     Book_rating|\n",
      "+-------+----------------+\n",
      "| 146081|{32, 0.23502888}|\n",
      "| 146081|{25, 0.23445165}|\n",
      "| 146081|{39, 0.21676286}|\n",
      "| 146081|{14, 0.20983696}|\n",
      "| 146081|{33, 0.20780882}|\n",
      "| 161751|    {44905, 0.0}|\n",
      "| 161751|    {44895, 0.0}|\n",
      "| 161751|    {44865, 0.0}|\n",
      "| 161751|    {44855, 0.0}|\n",
      "| 161751|    {44854, 0.0}|\n",
      "| 101835|    {44905, 0.0}|\n",
      "| 101835|    {44895, 0.0}|\n",
      "| 101835|    {44865, 0.0}|\n",
      "| 101835|    {44855, 0.0}|\n",
      "| 101835|    {44854, 0.0}|\n",
      "|  51627|  {8, 0.4352503}|\n",
      "|  51627| {3, 0.42443034}|\n",
      "|  51627| {6, 0.40750784}|\n",
      "|  51627|{13, 0.37428597}|\n",
      "|  51627|{38, 0.33631706}|\n",
      "+-------+----------------+\n",
      "only showing top 20 rows"
     ]
    }
   ],
   "source": [
    "import pyspark.sql.functions as fn\n",
    "\n",
    "user_books = user_subset_recs.select('User-ID', fn.explode('recommendations').alias('Book_rating'))\n",
    "user_books.show()"
   ]
  },
  {
   "cell_type": "code",
   "execution_count": 55,
   "id": "a4f4d669-ca1c-4dc7-83ec-31f0bdce294d",
   "metadata": {},
   "outputs": [
    {
     "data": {
      "application/vnd.jupyter.widget-view+json": {
       "model_id": "",
       "version_major": 2,
       "version_minor": 0
      },
      "text/plain": [
       "FloatProgress(value=0.0, bar_style='info', description='Progress:', layout=Layout(height='25px', width='50%'),…"
      ]
     },
     "metadata": {},
     "output_type": "display_data"
    }
   ],
   "source": [
    "#spark.stop()\n"
   ]
  }
 ],
 "metadata": {
  "kernelspec": {
   "display_name": "PySpark",
   "language": "python",
   "name": "pysparkkernel"
  },
  "language_info": {
   "codemirror_mode": {
    "name": "python",
    "version": 3
   },
   "file_extension": ".py",
   "mimetype": "text/x-python",
   "name": "pyspark",
   "pygments_lexer": "python3"
  }
 },
 "nbformat": 4,
 "nbformat_minor": 5
}
